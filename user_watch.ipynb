{
 "cells": [
  {
   "cell_type": "code",
   "execution_count": 1,
   "outputs": [],
   "source": [
    "import pandas as pd\n",
    "from os import listdir\n",
    "import numpy as np"
   ],
   "metadata": {
    "collapsed": false,
    "pycharm": {
     "name": "#%%\n"
    }
   }
  },
  {
   "cell_type": "code",
   "execution_count": 2,
   "outputs": [],
   "source": [
    "files = listdir('dataset/ExtraSensory/ExtraSensory.per_uuid_features_labels/')"
   ],
   "metadata": {
    "collapsed": false,
    "pycharm": {
     "name": "#%%\n"
    }
   }
  },
  {
   "cell_type": "code",
   "execution_count": 3,
   "outputs": [],
   "source": [
    "keep_files = []\n",
    "labels_lying_down = []\n",
    "\n",
    "for file in files:\n",
    "    user = pd.read_csv('dataset/ExtraSensory/ExtraSensory.per_uuid_features_labels/' + file)\n",
    "    prop_na = user.isnull().sum().sum() / (user.shape[0] * user.shape[1])\n",
    "    if prop_na < 0.3:\n",
    "        keep_files.append(file)\n",
    "        labels_lying_down.append(user['label:LYING_DOWN'])\n",
    "\n",
    "labels_lying_down = pd.concat(labels_lying_down, axis=0, ignore_index=True)\n",
    "\n",
    "magnet_columns= [col for col in user.columns if 'raw_magnet:' in col]\n",
    "watch_columns= [col for col in user.columns if 'watch_acceleration:' in col]\n",
    "location_quick_columns = [col for col in user.columns if 'location_quick_features:' in col]\n",
    "del user, prop_na"
   ],
   "metadata": {
    "collapsed": false,
    "pycharm": {
     "name": "#%%\n"
    }
   }
  },
  {
   "cell_type": "code",
   "execution_count": 4,
   "outputs": [],
   "source": [
    "# label lying down interpoleren\n",
    "# Op basis van tijd en label watch values op 0 zetten\n",
    "\n",
    "dir = 'dataset/ExtraSensory/ExtraSensory.per_uuid_features_labels/'\n",
    "\n",
    "total = []\n",
    "\n",
    "for file in keep_files:\n",
    "    name = file.split('.')[0]\n",
    "\n",
    "    t = pd.read_csv(dir + file)\n",
    "    t['user'] = name\n",
    "\n",
    "    t['label:LYING_DOWN'].interpolate(method='nearest', inplace=True)\n",
    "\n",
    "    for watch_col in watch_columns:\n",
    "\n",
    "        t[watch_col] = t.apply(\n",
    "        lambda row: 0 if (np.isnan(row[watch_col]) and row['label:LYING_DOWN'] ==1.0 and\n",
    "                          (row[watch_col] ==1.0 or row[watch_col])\n",
    "                          ) else row[watch_col],\n",
    "        axis=1)\n",
    "        t[watch_col].interpolate(method='linear', inplace=True)\n",
    "        t[watch_col].interpolate(method='nearest', inplace=True) # Some start with nan values\n",
    "\n",
    "\n",
    "    for magnet_col in magnet_columns:\n",
    "        t[magnet_col].interpolate(method='linear', inplace= True)\n",
    "        t[magnet_col].interpolate(method='nearest', inplace= True)\n",
    "\n",
    "    for location_col in location_quick_columns:\n",
    "        t[location_col].interpolate(method='linear', inplace= True)\n",
    "        t[location_col].interpolate(method='nearest', inplace= True)\n",
    "\n",
    "    t['audio_properties:max_abs_value'].interpolate(method='linear', inplace= True)\n",
    "    t['audio_properties:max_abs_value'].interpolate(method='nearest', inplace=True)\n",
    "\n",
    "    total.append(t)\n",
    "\n",
    "total = pd.concat(total, axis=0, ignore_index=True)\n",
    "total['label:LYING_DOWN'] = labels_lying_down"
   ],
   "metadata": {
    "collapsed": false,
    "pycharm": {
     "name": "#%%\n"
    }
   }
  },
  {
   "cell_type": "code",
   "execution_count": 5,
   "outputs": [],
   "source": [
    "drop_cols = (total.isnull().sum() / total.shape[0]) > 0.5\n",
    "drop_cols = drop_cols[drop_cols == True].index\n",
    "drop_cols = [col for col in drop_cols if 'label:' not in col]\n",
    "total = total.drop(columns=drop_cols)\n",
    "\n",
    "# We drop location since we have location quick\n",
    "location_columns= [col for col in total.columns if 'location:' in col]\n",
    "total = total.drop(columns= location_columns)\n",
    "\n",
    "audio_columns= [col for col in total.columns if 'audio_naive:' in col]\n",
    "total= total.drop(columns= audio_columns)\n",
    "\n",
    "total = total.drop(columns=['lf_measurements:proximity', 'lf_measurements:screen_brightness', 'audio_properties:normalization_multiplier'])"
   ],
   "metadata": {
    "collapsed": false,
    "pycharm": {
     "name": "#%%\n"
    }
   }
  },
  {
   "cell_type": "code",
   "execution_count": 8,
   "outputs": [],
   "source": [
    "for col in total.columns:\n",
    "    if col != 'user':\n",
    "        total[col].fillna(value=total[col].median(), inplace=True)"
   ],
   "metadata": {
    "collapsed": false,
    "pycharm": {
     "name": "#%%\n"
    }
   }
  },
  {
   "cell_type": "code",
   "execution_count": 23,
   "outputs": [],
   "source": [
    "# Now group by name and save seperate dataframe\n",
    "for i, df_user in total.groupby('user'):\n",
    "    name = df_user['user'].iloc[0]\n",
    "    df_user = df_user.drop(columns=['user'])\n",
    "    df_user.to_csv('dataset/ExtraSensory/Processed/' + name + '.csv', index=False)"
   ],
   "metadata": {
    "collapsed": false,
    "pycharm": {
     "name": "#%%\n"
    }
   }
  },
  {
   "cell_type": "code",
   "execution_count": 22,
   "outputs": [
    {
     "data": {
      "text/plain": "'0A986513-7828-4D53-AA1F-E02D6DF9561B'"
     },
     "execution_count": 22,
     "metadata": {},
     "output_type": "execute_result"
    }
   ],
   "source": [
    "df_user['user'].iloc[0]"
   ],
   "metadata": {
    "collapsed": false,
    "pycharm": {
     "name": "#%%\n"
    }
   }
  },
  {
   "cell_type": "code",
   "execution_count": 24,
   "outputs": [
    {
     "data": {
      "text/plain": "timestamp                          0\nraw_acc:magnitude_stats:mean       0\nraw_acc:magnitude_stats:std        0\nraw_acc:magnitude_stats:moment3    0\nraw_acc:magnitude_stats:moment4    0\n                                  ..\nlabel:PHONE_ON_TABLE               0\nlabel:WITH_CO-WORKERS              0\nlabel:WITH_FRIENDS                 0\nlabel_source                       0\nuser                               0\nLength: 225, dtype: int64"
     },
     "execution_count": 24,
     "metadata": {},
     "output_type": "execute_result"
    }
   ],
   "source": [
    "total.isna().sum()"
   ],
   "metadata": {
    "collapsed": false,
    "pycharm": {
     "name": "#%%\n"
    }
   }
  },
  {
   "cell_type": "code",
   "execution_count": null,
   "outputs": [],
   "source": [],
   "metadata": {
    "collapsed": false,
    "pycharm": {
     "name": "#%%\n"
    }
   }
  }
 ],
 "metadata": {
  "kernelspec": {
   "display_name": "Python 3",
   "language": "python",
   "name": "python3"
  },
  "language_info": {
   "codemirror_mode": {
    "name": "ipython",
    "version": 2
   },
   "file_extension": ".py",
   "mimetype": "text/x-python",
   "name": "python",
   "nbconvert_exporter": "python",
   "pygments_lexer": "ipython2",
   "version": "2.7.6"
  }
 },
 "nbformat": 4,
 "nbformat_minor": 0
}