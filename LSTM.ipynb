{
 "cells": [
  {
   "cell_type": "code",
   "execution_count": 1,
   "outputs": [],
   "source": [
    "import numpy as np\n",
    "\n",
    "from definitions import *\n",
    "from trainTestValSplit import getTrainTestValSplit\n",
    "from preProcessing import preProcess\n",
    "\n",
    "from sklearn.metrics import f1_score, precision_score, recall_score"
   ],
   "metadata": {
    "collapsed": false,
    "pycharm": {
     "name": "#%%\n"
    }
   }
  },
  {
   "cell_type": "code",
   "execution_count": 2,
   "outputs": [],
   "source": [
    "train_concat, test_concat, val_concat = getTrainTestValSplit(\n",
    "    _dataset_path=f'{ROOT_DIR}/dataset/ExtraSensory/Processed'\n",
    ")"
   ],
   "metadata": {
    "collapsed": false,
    "pycharm": {
     "name": "#%%\n"
    }
   }
  },
  {
   "cell_type": "code",
   "execution_count": 3,
   "outputs": [],
   "source": [
    "train_x, train_y = preProcess(train_concat)\n",
    "test_x, test_y = preProcess(test_concat)\n",
    "val_x, val_y = preProcess(val_concat)\n",
    "\n",
    "columns = train_x.columns\n",
    "train_x = train_x.fillna(0)\n",
    "test_x = test_x.fillna(0)\n",
    "val_x = val_x.fillna(0)\n",
    "\n",
    "n_columns = len(columns)\n",
    "train_x = train_x.to_numpy()\n",
    "train_y = train_y.to_numpy()\n",
    "test_x = test_x.to_numpy()\n",
    "test_y = test_y.to_numpy()\n",
    "val_x = val_x.to_numpy()\n",
    "val_y = val_y.to_numpy()\n",
    "#\n",
    "# from sklearn.decomposition import PCA\n",
    "# pca = PCA(n_components=50)\n",
    "#\n",
    "# train_x = pca.fit_transform(train_x, train_y)\n",
    "# test_x = pca.fit_transform(test_x, test_y)\n",
    "# val_x = pca.fit_transform(val_x, val_y)"
   ],
   "metadata": {
    "collapsed": false,
    "pycharm": {
     "name": "#%%\n"
    }
   }
  },
  {
   "cell_type": "code",
   "execution_count": 4,
   "outputs": [],
   "source": [
    "n_features: int = n_columns"
   ],
   "metadata": {
    "collapsed": false,
    "pycharm": {
     "name": "#%%\n"
    }
   }
  },
  {
   "cell_type": "code",
   "execution_count": 5,
   "outputs": [],
   "source": [
    "train_y = encodeTarget(train_y)\n",
    "test_y = encodeTarget(test_y)\n",
    "val_y = encodeTarget(val_y)"
   ],
   "metadata": {
    "collapsed": false,
    "pycharm": {
     "name": "#%%\n"
    }
   }
  },
  {
   "cell_type": "code",
   "execution_count": 6,
   "outputs": [],
   "source": [
    "train_x = reshape_and_truncate(train_x, (-1, window_size, n_features))\n",
    "train_y = reshape_and_truncate(train_y, (-1, window_size, len(main_activity_label_classes)))\n",
    "\n",
    "test_x = reshape_and_truncate(test_x, (-1, window_size, n_features))\n",
    "test_y = reshape_and_truncate(test_y, (-1, window_size, len(main_activity_label_classes)))\n",
    "\n",
    "val_x = reshape_and_truncate(val_x, (-1, window_size, n_features))\n",
    "val_y = reshape_and_truncate(val_y, (-1, window_size, len(main_activity_label_classes)))"
   ],
   "metadata": {
    "collapsed": false,
    "pycharm": {
     "name": "#%%\n"
    }
   }
  },
  {
   "cell_type": "code",
   "execution_count": 7,
   "outputs": [
    {
     "name": "stderr",
     "output_type": "stream",
     "text": [
      "\n",
      "KeyboardInterrupt\n",
      "\n"
     ]
    }
   ],
   "source": [
    "with tf.device('/cpu:0'):\n",
    "    model = tf.keras.Sequential()\n",
    "\n",
    "    layer = tf.keras.layers.Normalization(axis=-1)\n",
    "    layer.adapt(train_x)\n",
    "    model.add(layer)\n",
    "    model.add(tf.keras.layers.LSTM(100, return_sequences=True, activation='tanh'))\n",
    "    model.add(tf.keras.layers.LSTM(50, return_sequences=True, activation='tanh'))\n",
    "    model.add(tf.keras.layers.Dropout(0.2))\n",
    "    model.add(tf.keras.layers.Dense(n_y, activation=tf.keras.activations.softmax))\n",
    "\n",
    "    model.compile(loss=tf.keras.losses.CategoricalCrossentropy(), optimizer=\n",
    "    tf.keras.optimizers.Adam(\n",
    "        learning_rate=learning_rate,\n",
    "    ), metrics=['acc'])\n",
    "    history = model.fit(x=train_x, y=train_y, validation_data=(val_x, val_y), epochs=epochs, batch_size=batch_size,\n",
    "                        callbacks=[\n",
    "                            tf.keras.callbacks.EarlyStopping(monitor='val_loss', patience=early_stopping_patience,\n",
    "                                                             mode='auto', restore_best_weights=True)])\n",
    "    predict = model.predict(test_x)"
   ],
   "metadata": {
    "collapsed": false,
    "pycharm": {
     "name": "#%%\n"
    }
   }
  },
  {
   "cell_type": "code",
   "execution_count": 8,
   "outputs": [],
   "source": [
    "gold_labels = np.load('gold.txt.npy')\n",
    "predicted_labels = np.load('pred.txt.npy')"
   ],
   "metadata": {
    "collapsed": false,
    "pycharm": {
     "name": "#%%\n"
    }
   }
  },
  {
   "cell_type": "code",
   "execution_count": 9,
   "outputs": [
    {
     "name": "stdout",
     "output_type": "stream",
     "text": [
      "F1: 0.7194378128247972\n",
      "Precision: 0.7297577589852757\n",
      "Recall: 0.7639004149377593\n"
     ]
    }
   ],
   "source": [
    "print(f'F1: {f1_score(gold_labels, predicted_labels, average=\"weighted\")}')\n",
    "print(f'Precision: {precision_score(gold_labels, predicted_labels, average=\"weighted\", zero_division=0)}')\n",
    "print(f'Recall: {recall_score(gold_labels, predicted_labels, average=\"weighted\", zero_division=0)}')"
   ],
   "metadata": {
    "collapsed": false,
    "pycharm": {
     "name": "#%%\n"
    }
   }
  },
  {
   "cell_type": "code",
   "execution_count": 10,
   "outputs": [
    {
     "data": {
      "text/plain": "<tf.Tensor: shape=(7, 7), dtype=int32, numpy=\narray([[1158,    5,   35,    8,    0,    0,    0],\n       [   5, 1789,  293,   16,    3,    0,    0],\n       [  15,   65, 2384,   22,   24,    0,    1],\n       [   5,   92,  732,   60,   41,    0,   17],\n       [   4,    5,  113,   34,  130,    0,    5],\n       [   0,    6,    5,    0,    0,    0,    0],\n       [  18,   10,  105,    8,   15,    0,    2]])>"
     },
     "execution_count": 10,
     "metadata": {},
     "output_type": "execute_result"
    }
   ],
   "source": [
    "tf.math.confusion_matrix(gold_labels, predicted_labels)"
   ],
   "metadata": {
    "collapsed": false,
    "pycharm": {
     "name": "#%%\n"
    }
   }
  },
  {
   "cell_type": "code",
   "execution_count": 11,
   "outputs": [
    {
     "data": {
      "text/plain": "<Figure size 720x720 with 2 Axes>",
      "image/png": "[encoded data removed]"
     },
     "metadata": {
      "needs_background": "light"
     },
     "output_type": "display_data"
    }
   ],
   "source": [
    "plot_conf_matrix(gold_labels, predicted_labels)"
   ],
   "metadata": {
    "collapsed": false,
    "pycharm": {
     "name": "#%%\n"
    }
   }
  },
  {
   "cell_type": "code",
   "execution_count": 12,
   "outputs": [
    {
     "data": {
      "text/plain": "<Figure size 432x288 with 1 Axes>",
      "image/png": "[encoded data removed]"
     },
     "metadata": {
      "needs_background": "light"
     },
     "output_type": "display_data"
    }
   ],
   "source": [
    "plot_val_loss_progress(history)"
   ],
   "metadata": {
    "collapsed": false,
    "pycharm": {
     "name": "#%%\n"
    }
   }
  },
  {
   "cell_type": "code",
   "execution_count": 37,
   "outputs": [
    {
     "data": {
      "text/plain": "array([[ 1.39961285e+02,  6.87577886e+02,  2.12362849e+02, ...,\n         3.52129190e+00, -2.52147204e+00, -2.29142961e+00],\n       [ 1.84086525e+02,  8.99400953e+02, -5.65524557e+02, ...,\n        -6.66557860e-02,  3.58604191e+00, -2.12955261e+00],\n       [ 1.81524255e+02,  8.92424449e+02, -5.59237995e+02, ...,\n         2.49800945e-01,  1.06418966e+01,  8.43332293e+00],\n       ...,\n       [-1.73323535e+03, -2.35332495e+02, -1.87871073e+01, ...,\n         2.76242688e-01,  1.91736721e-01,  1.13289525e-01],\n       [-1.73376653e+03, -2.32727794e+02, -1.80871742e+01, ...,\n         2.05901100e-01,  2.09933389e-01,  2.73065701e-02],\n       [-1.72954144e+03, -2.56966514e+02, -2.34026500e+01, ...,\n        -1.05731433e+01,  4.23683080e-01,  4.77078222e-01]])"
     },
     "execution_count": 37,
     "metadata": {},
     "output_type": "execute_result"
    }
   ],
   "source": [],
   "metadata": {
    "collapsed": false,
    "pycharm": {
     "name": "#%%\n"
    }
   }
  },
  {
   "cell_type": "code",
   "execution_count": null,
   "outputs": [],
   "source": [],
   "metadata": {
    "collapsed": false,
    "pycharm": {
     "name": "#%%\n"
    }
   }
  }
 ],
 "metadata": {
  "kernelspec": {
   "display_name": "Python 3",
   "language": "python",
   "name": "python3"
  },
  "language_info": {
   "codemirror_mode": {
    "name": "ipython",
    "version": 2
   },
   "file_extension": ".py",
   "mimetype": "text/x-python",
   "name": "python",
   "nbconvert_exporter": "python",
   "pygments_lexer": "ipython2",
   "version": "2.7.6"
  }
 },
 "nbformat": 4,
 "nbformat_minor": 0
}