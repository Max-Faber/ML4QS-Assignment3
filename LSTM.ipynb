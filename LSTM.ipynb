{
 "cells": [
  {
   "cell_type": "code",
   "execution_count": 1,
   "outputs": [],
   "source": [
    "import numpy as np\n",
    "\n",
    "from definitions import *\n",
    "from trainTestValSplit import getTrainTestValSplit\n",
    "from preProcessing import preProcess\n",
    "\n",
    "from sklearn.metrics import f1_score, precision_score, recall_score"
   ],
   "metadata": {
    "collapsed": false,
    "pycharm": {
     "name": "#%%\n"
    }
   }
  },
  {
   "cell_type": "code",
   "execution_count": 2,
   "outputs": [
    {
     "name": "stdout",
     "output_type": "stream",
     "text": [
      "/Volumes/SEAGATE/code/ML4QS-Assignment3/dataset/ExtraSensory/Processed_outliers_with_labels/098A72A5-E3E5-4F54-A152-BBDA0DF7B694.csv\n"
     ]
    }
   ],
   "source": [
    "train_concat, test_concat, val_concat = getTrainTestValSplit(\n",
    "    _dataset_path=f'{ROOT_DIR}/dataset/ExtraSensory/Processed_outliers_with_labels'\n",
    ")"
   ],
   "metadata": {
    "collapsed": false,
    "pycharm": {
     "name": "#%%\n"
    }
   }
  },
  {
   "cell_type": "code",
   "execution_count": 3,
   "outputs": [],
   "source": [
    "train_x, train_y = preProcess(train_concat)\n",
    "test_x, test_y = preProcess(test_concat)\n",
    "val_x, val_y = preProcess(val_concat)\n",
    "\n",
    "columns = train_x.columns\n",
    "train_x = train_x.fillna(0)\n",
    "test_x = test_x.fillna(0)\n",
    "val_x = val_x.fillna(0)\n",
    "\n",
    "n_columns = len(columns)\n",
    "train_x = train_x.to_numpy()\n",
    "train_y = train_y.to_numpy()\n",
    "test_x = test_x.to_numpy()\n",
    "test_y = test_y.to_numpy()\n",
    "val_x = val_x.to_numpy()\n",
    "val_y = val_y.to_numpy()\n",
    "#\n",
    "# from sklearn.decomposition import PCA\n",
    "# pca = PCA(n_components=50)\n",
    "#\n",
    "# train_x = pca.fit_transform(train_x, train_y)\n",
    "# test_x = pca.fit_transform(test_x, test_y)\n",
    "# val_x = pca.fit_transform(val_x, val_y)"
   ],
   "metadata": {
    "collapsed": false,
    "pycharm": {
     "name": "#%%\n"
    }
   }
  },
  {
   "cell_type": "code",
   "execution_count": 4,
   "outputs": [],
   "source": [
    "n_features: int = n_columns"
   ],
   "metadata": {
    "collapsed": false,
    "pycharm": {
     "name": "#%%\n"
    }
   }
  },
  {
   "cell_type": "code",
   "execution_count": 5,
   "outputs": [],
   "source": [
    "train_y = encodeTarget(train_y)\n",
    "test_y = encodeTarget(test_y)\n",
    "val_y = encodeTarget(val_y)"
   ],
   "metadata": {
    "collapsed": false,
    "pycharm": {
     "name": "#%%\n"
    }
   }
  },
  {
   "cell_type": "code",
   "execution_count": 6,
   "outputs": [],
   "source": [
    "train_x = reshape_and_truncate(train_x, (-1, window_size, n_features))\n",
    "train_y = reshape_and_truncate(train_y, (-1, window_size, len(main_activity_label_classes)))\n",
    "\n",
    "test_x = reshape_and_truncate(test_x, (-1, window_size, n_features))\n",
    "test_y = reshape_and_truncate(test_y, (-1, window_size, len(main_activity_label_classes)))\n",
    "\n",
    "val_x = reshape_and_truncate(val_x, (-1, window_size, n_features))\n",
    "val_y = reshape_and_truncate(val_y, (-1, window_size, len(main_activity_label_classes)))"
   ],
   "metadata": {
    "collapsed": false,
    "pycharm": {
     "name": "#%%\n"
    }
   }
  },
  {
   "cell_type": "code",
   "execution_count": 7,
   "outputs": [
    {
     "name": "stdout",
     "output_type": "stream",
     "text": [
      "Metal device set to: Apple M1 Pro\n"
     ]
    },
    {
     "name": "stderr",
     "output_type": "stream",
     "text": [
      "2022-06-25 20:45:07.080021: I tensorflow/core/common_runtime/pluggable_device/pluggable_device_factory.cc:305] Could not identify NUMA node of platform GPU ID 0, defaulting to 0. Your kernel may not have been built with NUMA support.\n",
      "2022-06-25 20:45:07.080170: I tensorflow/core/common_runtime/pluggable_device/pluggable_device_factory.cc:271] Created TensorFlow device (/job:localhost/replica:0/task:0/device:GPU:0 with 0 MB memory) -> physical PluggableDevice (device: 0, name: METAL, pci bus id: <undefined>)\n",
      "2022-06-25 20:45:07.104211: W tensorflow/core/platform/profile_utils/cpu_utils.cc:128] Failed to get CPU frequency: 0 Hz\n"
     ]
    },
    {
     "name": "stdout",
     "output_type": "stream",
     "text": [
      "Epoch 1/100\n",
      "650/650 [==============================] - 7s 9ms/step - loss: 1.5743 - acc: 0.5378 - val_loss: 1.3203 - val_acc: 0.6578\n",
      "Epoch 2/100\n",
      "650/650 [==============================] - 5s 8ms/step - loss: 1.1259 - acc: 0.6925 - val_loss: 1.0820 - val_acc: 0.7147\n",
      "Epoch 3/100\n",
      "650/650 [==============================] - 5s 7ms/step - loss: 0.9963 - acc: 0.7155 - val_loss: 1.0123 - val_acc: 0.7169\n",
      "Epoch 4/100\n",
      "650/650 [==============================] - 6s 9ms/step - loss: 0.9303 - acc: 0.7243 - val_loss: 0.9658 - val_acc: 0.7198\n",
      "Epoch 5/100\n",
      "650/650 [==============================] - 7s 10ms/step - loss: 0.8823 - acc: 0.7312 - val_loss: 0.9289 - val_acc: 0.7213\n",
      "Epoch 6/100\n",
      "650/650 [==============================] - 6s 10ms/step - loss: 0.8416 - acc: 0.7386 - val_loss: 0.8990 - val_acc: 0.7240\n",
      "Epoch 7/100\n",
      "650/650 [==============================] - 6s 10ms/step - loss: 0.8070 - acc: 0.7459 - val_loss: 0.8772 - val_acc: 0.7236\n",
      "Epoch 8/100\n",
      "650/650 [==============================] - 7s 10ms/step - loss: 0.7758 - acc: 0.7522 - val_loss: 0.8579 - val_acc: 0.7261\n",
      "Epoch 9/100\n",
      "650/650 [==============================] - 6s 10ms/step - loss: 0.7472 - acc: 0.7578 - val_loss: 0.8436 - val_acc: 0.7271\n",
      "Epoch 10/100\n",
      "650/650 [==============================] - 6s 10ms/step - loss: 0.7221 - acc: 0.7627 - val_loss: 0.8269 - val_acc: 0.7293\n",
      "Epoch 11/100\n",
      "650/650 [==============================] - 6s 10ms/step - loss: 0.6992 - acc: 0.7672 - val_loss: 0.8182 - val_acc: 0.7299\n",
      "Epoch 12/100\n",
      "650/650 [==============================] - 6s 10ms/step - loss: 0.6796 - acc: 0.7714 - val_loss: 0.8113 - val_acc: 0.7310\n",
      "Epoch 13/100\n",
      "650/650 [==============================] - 6s 10ms/step - loss: 0.6610 - acc: 0.7756 - val_loss: 0.8062 - val_acc: 0.7301\n",
      "Epoch 14/100\n",
      "650/650 [==============================] - 6s 9ms/step - loss: 0.6450 - acc: 0.7801 - val_loss: 0.8033 - val_acc: 0.7310\n",
      "Epoch 15/100\n",
      "650/650 [==============================] - 6s 9ms/step - loss: 0.6301 - acc: 0.7835 - val_loss: 0.7974 - val_acc: 0.7335\n",
      "Epoch 16/100\n",
      "650/650 [==============================] - 6s 9ms/step - loss: 0.6175 - acc: 0.7868 - val_loss: 0.7966 - val_acc: 0.7338\n",
      "Epoch 17/100\n",
      "650/650 [==============================] - 6s 9ms/step - loss: 0.6058 - acc: 0.7900 - val_loss: 0.7969 - val_acc: 0.7346\n",
      "Epoch 18/100\n",
      "650/650 [==============================] - 6s 9ms/step - loss: 0.5957 - acc: 0.7927 - val_loss: 0.7990 - val_acc: 0.7324\n",
      "Epoch 19/100\n",
      "650/650 [==============================] - 6s 10ms/step - loss: 0.5869 - acc: 0.7950 - val_loss: 0.8030 - val_acc: 0.7326\n",
      "Epoch 20/100\n",
      "650/650 [==============================] - 6s 9ms/step - loss: 0.5782 - acc: 0.7975 - val_loss: 0.8030 - val_acc: 0.7315\n",
      "Epoch 21/100\n",
      "650/650 [==============================] - 6s 9ms/step - loss: 0.5709 - acc: 0.8001 - val_loss: 0.8009 - val_acc: 0.7362\n",
      "207/207 [==============================] - 1s 3ms/step\n"
     ]
    }
   ],
   "source": [
    "with tf.device('/cpu:0'):\n",
    "    model = tf.keras.Sequential()\n",
    "\n",
    "    layer = tf.keras.layers.Normalization(axis=-1)\n",
    "    layer.adapt(train_x)\n",
    "    model.add(layer)\n",
    "    model.add(tf.keras.layers.LSTM(100, return_sequences=True, activation='tanh'))\n",
    "    model.add(tf.keras.layers.LSTM(50, return_sequences=True, activation='tanh'))\n",
    "    model.add(tf.keras.layers.Dropout(0.2))\n",
    "    model.add(tf.keras.layers.Dense(n_y, activation=tf.keras.activations.softmax))\n",
    "\n",
    "    model.compile(loss=tf.keras.losses.CategoricalCrossentropy(), optimizer=\n",
    "    tf.keras.optimizers.Adam(\n",
    "        learning_rate=learning_rate,\n",
    "    ), metrics=['acc'])\n",
    "    history = model.fit(x=train_x, y=train_y, validation_data=(val_x, val_y), epochs=epochs, batch_size=batch_size,\n",
    "                        callbacks=[\n",
    "                            tf.keras.callbacks.EarlyStopping(monitor='val_loss', patience=early_stopping_patience,\n",
    "                                                             mode='auto', restore_best_weights=True)])\n",
    "    predict = model.predict(test_x)"
   ],
   "metadata": {
    "collapsed": false,
    "pycharm": {
     "name": "#%%\n"
    }
   }
  },
  {
   "cell_type": "code",
   "execution_count": 8,
   "outputs": [],
   "source": [
    "# gold_labels = np.load('gold.txt.npy')\n",
    "# predicted_labels = np.load('pred.txt.npy')\n",
    "gold_labels = get_labels(test_y)\n",
    "predicted_labels = get_labels(predict)"
   ],
   "metadata": {
    "collapsed": false,
    "pycharm": {
     "name": "#%%\n"
    }
   }
  },
  {
   "cell_type": "code",
   "execution_count": 9,
   "outputs": [
    {
     "name": "stdout",
     "output_type": "stream",
     "text": [
      "F1: 0.7555540653471055\n",
      "Precision: 0.7552880585113908\n",
      "Recall: 0.7758620689655172\n"
     ]
    }
   ],
   "source": [
    "print(f'F1: {f1_score(gold_labels, predicted_labels, average=\"weighted\")}')\n",
    "print(f'Precision: {precision_score(gold_labels, predicted_labels, average=\"weighted\", zero_division=0)}')\n",
    "print(f'Recall: {recall_score(gold_labels, predicted_labels, average=\"weighted\", zero_division=0)}')\n",
    "# F1: 0.7524208164862666\n",
    "# Precision: 0.7564173218179143\n",
    "# Recall: 0.7772232304900182"
   ],
   "metadata": {
    "collapsed": false,
    "pycharm": {
     "name": "#%%\n"
    }
   }
  },
  {
   "cell_type": "code",
   "execution_count": 10,
   "outputs": [
    {
     "data": {
      "text/plain": "<tf.Tensor: shape=(7, 7), dtype=int32, numpy=\narray([[1121,   24,  101,    7,    2,    0,    1],\n       [   6, 1639,  168,    2,    2,    0,    0],\n       [  19,  202, 2072,   82,   89,    0,   21],\n       [  10,   75,  442,   85,   43,    0,   12],\n       [   4,    5,  106,   19,  169,    0,    4],\n       [   0,    0,    1,    8,    0,    0,    0],\n       [   5,    0,   18,    2,    2,    0,   44]], dtype=int32)>"
     },
     "execution_count": 10,
     "metadata": {},
     "output_type": "execute_result"
    }
   ],
   "source": [
    "tf.math.confusion_matrix(gold_labels, predicted_labels)"
   ],
   "metadata": {
    "collapsed": false,
    "pycharm": {
     "name": "#%%\n"
    }
   }
  },
  {
   "cell_type": "code",
   "execution_count": 11,
   "outputs": [
    {
     "name": "stdout",
     "output_type": "stream",
     "text": [
      "n_classes_conf_matrix: 6612\n"
     ]
    },
    {
     "data": {
      "text/plain": "<Figure size 720x720 with 2 Axes>",
      "image/png": "[encoded data removed]"
     },
     "metadata": {
      "needs_background": "light"
     },
     "output_type": "display_data"
    }
   ],
   "source": [
    "plot_conf_matrix(gold_labels, predicted_labels)"
   ],
   "metadata": {
    "collapsed": false,
    "pycharm": {
     "name": "#%%\n"
    }
   }
  },
  {
   "cell_type": "code",
   "execution_count": 12,
   "outputs": [
    {
     "data": {
      "text/plain": "<Figure size 432x288 with 1 Axes>",
      "image/png": "[encoded data removed]"
     },
     "metadata": {
      "needs_background": "light"
     },
     "output_type": "display_data"
    }
   ],
   "source": [
    "plot_val_loss_progress(history)"
   ],
   "metadata": {
    "collapsed": false,
    "pycharm": {
     "name": "#%%\n"
    }
   }
  },
  {
   "cell_type": "code",
   "execution_count": 12,
   "outputs": [],
   "source": [],
   "metadata": {
    "collapsed": false,
    "pycharm": {
     "name": "#%%\n"
    }
   }
  },
  {
   "cell_type": "code",
   "execution_count": 12,
   "outputs": [],
   "source": [],
   "metadata": {
    "collapsed": false,
    "pycharm": {
     "name": "#%%\n"
    }
   }
  }
 ],
 "metadata": {
  "kernelspec": {
   "display_name": "Python 3",
   "language": "python",
   "name": "python3"
  },
  "language_info": {
   "codemirror_mode": {
    "name": "ipython",
    "version": 2
   },
   "file_extension": ".py",
   "mimetype": "text/x-python",
   "name": "python",
   "nbconvert_exporter": "python",
   "pygments_lexer": "ipython2",
   "version": "2.7.6"
  }
 },
 "nbformat": 4,
 "nbformat_minor": 0
}