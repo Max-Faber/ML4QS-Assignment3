{
 "cells": [
  {
   "cell_type": "code",
   "execution_count": 1,
   "outputs": [],
   "source": [
    "import pandas as pd\n",
    "import tensorflow as tf\n",
    "import numpy as np\n",
    "\n",
    "from definitions import ROOT_DIR, main_activity_label_classes\n",
    "from trainTestValSplit import getTrainTestValSplit\n",
    "from preProcessing import preProcess\n",
    "from sklearn.preprocessing import LabelEncoder\n",
    "from keras.utils import np_utils\n",
    "from sklearn.metrics import f1_score"
   ],
   "metadata": {
    "collapsed": false,
    "pycharm": {
     "name": "#%%\n"
    }
   }
  },
  {
   "cell_type": "code",
   "execution_count": 30,
   "outputs": [
    {
     "name": "stderr",
     "output_type": "stream",
     "text": [
      "\n",
      "KeyboardInterrupt\n",
      "\n"
     ]
    }
   ],
   "source": [
    "train_concat, test_concat, val_concat = getTrainTestValSplit(\n",
    "    _dataset_path=f'{ROOT_DIR}/dataset/ExtraSensory/ExtraSensory.per_uuid_features_labels'\n",
    ")"
   ],
   "metadata": {
    "collapsed": false,
    "pycharm": {
     "name": "#%%\n"
    }
   }
  },
  {
   "cell_type": "code",
   "execution_count": 61,
   "outputs": [],
   "source": [
    "train_x, train_y = preProcess(train_concat)\n",
    "test_x, test_y = preProcess(test_concat)\n",
    "val_x, val_y = preProcess(val_concat)"
   ],
   "metadata": {
    "collapsed": false,
    "pycharm": {
     "name": "#%%\n"
    }
   }
  },
  {
   "cell_type": "code",
   "execution_count": 62,
   "outputs": [],
   "source": [
    "train_x = train_x.fillna(0)\n",
    "test_x = test_x.fillna(0)\n",
    "val_x = val_x.fillna(0)"
   ],
   "metadata": {
    "collapsed": false,
    "pycharm": {
     "name": "#%%\n"
    }
   }
  },
  {
   "cell_type": "code",
   "execution_count": 63,
   "outputs": [],
   "source": [
    "n_neurons: int = 1024\n",
    "window_size: int = 5\n",
    "epochs: int = 20\n",
    "n_y: int = len(main_activity_label_classes)\n",
    "batch_size: int = 1024\n",
    "n_features: int = len(train_x.columns)"
   ],
   "metadata": {
    "collapsed": false,
    "pycharm": {
     "name": "#%%\n"
    }
   }
  },
  {
   "cell_type": "code",
   "execution_count": 64,
   "outputs": [],
   "source": [
    "train_x = train_x.to_numpy()\n",
    "train_y = train_y.to_numpy()\n",
    "test_x = test_x.to_numpy()\n",
    "test_y = test_y.to_numpy()\n",
    "val_x = val_x.to_numpy()\n",
    "val_y = val_y.to_numpy()"
   ],
   "metadata": {
    "collapsed": false,
    "pycharm": {
     "name": "#%%\n"
    }
   }
  },
  {
   "cell_type": "code",
   "execution_count": 65,
   "outputs": [],
   "source": [
    "# Source: https://stackoverflow.com/questions/43114460/is-there-a-way-to-reshape-an-array-that-does-not-maintain-the-original-size-or\n",
    "def reshape_and_truncate(arr, shape):\n",
    "    desired_size_factor = np.prod([n for n in shape if n != -1])\n",
    "    if -1 in shape:  # implicit array size\n",
    "        desired_size = arr.size // desired_size_factor * desired_size_factor\n",
    "    else:\n",
    "        desired_size = desired_size_factor\n",
    "    return arr.flat[:desired_size].reshape(shape)"
   ],
   "metadata": {
    "collapsed": false,
    "pycharm": {
     "name": "#%%\n"
    }
   }
  },
  {
   "cell_type": "code",
   "execution_count": 66,
   "outputs": [],
   "source": [
    "def encodeTarget(y):\n",
    "    encoder = LabelEncoder()\n",
    "    encoder.fit(y)\n",
    "    y = encoder.transform(y)\n",
    "    return np_utils.to_categorical(y)"
   ],
   "metadata": {
    "collapsed": false,
    "pycharm": {
     "name": "#%%\n"
    }
   }
  },
  {
   "cell_type": "code",
   "execution_count": 67,
   "outputs": [],
   "source": [
    "train_y = encodeTarget(train_y)\n",
    "test_y = encodeTarget(test_y)\n",
    "val_y = encodeTarget(val_y)"
   ],
   "metadata": {
    "collapsed": false,
    "pycharm": {
     "name": "#%%\n"
    }
   }
  },
  {
   "cell_type": "code",
   "execution_count": 68,
   "outputs": [],
   "source": [
    "train_x = reshape_and_truncate(train_x, (-1, window_size, n_features))\n",
    "train_y = reshape_and_truncate(train_y, (-1, window_size, len(main_activity_label_classes)))\n",
    "\n",
    "test_x = reshape_and_truncate(test_x, (-1, window_size, n_features))\n",
    "test_y = reshape_and_truncate(test_y, (-1, window_size, len(main_activity_label_classes)))\n",
    "\n",
    "val_x = reshape_and_truncate(val_x, (-1, window_size, n_features))\n",
    "val_y = reshape_and_truncate(val_y, (-1, window_size, len(main_activity_label_classes)))"
   ],
   "metadata": {
    "collapsed": false,
    "pycharm": {
     "name": "#%%\n"
    }
   }
  },
  {
   "cell_type": "code",
   "execution_count": 84,
   "outputs": [
    {
     "name": "stdout",
     "output_type": "stream",
     "text": [
      "Epoch 1/10\n",
      "54/54 [==============================] - 12s 173ms/step - loss: 1.2078 - acc: 0.6098 - val_loss: 0.9641 - val_acc: 0.6955\n",
      "Epoch 2/10\n",
      "54/54 [==============================] - 9s 158ms/step - loss: 0.6953 - acc: 0.7768 - val_loss: 0.9002 - val_acc: 0.7002\n",
      "Epoch 3/10\n",
      "54/54 [==============================] - 9s 160ms/step - loss: 0.5643 - acc: 0.8132 - val_loss: 0.8669 - val_acc: 0.7152\n",
      "Epoch 4/10\n",
      "54/54 [==============================] - 9s 172ms/step - loss: 0.4853 - acc: 0.8350 - val_loss: 0.8567 - val_acc: 0.7190\n",
      "Epoch 5/10\n",
      "54/54 [==============================] - 9s 172ms/step - loss: 0.4311 - acc: 0.8517 - val_loss: 0.8958 - val_acc: 0.7151\n",
      "Epoch 6/10\n",
      "54/54 [==============================] - 10s 187ms/step - loss: 0.3966 - acc: 0.8627 - val_loss: 0.9353 - val_acc: 0.7062\n",
      "Epoch 7/10\n",
      "54/54 [==============================] - 10s 176ms/step - loss: 0.3696 - acc: 0.8721 - val_loss: 0.9300 - val_acc: 0.7127\n",
      "Epoch 8/10\n",
      "54/54 [==============================] - 10s 177ms/step - loss: 0.3467 - acc: 0.8789 - val_loss: 0.9215 - val_acc: 0.7244\n",
      "Epoch 9/10\n",
      "54/54 [==============================] - 9s 175ms/step - loss: 0.3292 - acc: 0.8853 - val_loss: 0.9294 - val_acc: 0.7155\n",
      "Epoch 10/10\n",
      "54/54 [==============================] - 10s 176ms/step - loss: 0.3125 - acc: 0.8907 - val_loss: 0.9656 - val_acc: 0.7109\n",
      "446/446 [==============================] - 7s 13ms/step\n"
     ]
    }
   ],
   "source": [
    "with tf.device('/cpu:0'):\n",
    "    model = tf.keras.Sequential()\n",
    "\n",
    "    layer = tf.keras.layers.Normalization(axis=-1)\n",
    "    layer.adapt(train_x)\n",
    "    model.add(layer)\n",
    "    model.add(tf.keras.layers.LSTM(150, return_sequences=True))\n",
    "    model.add(tf.keras.layers.Dropout(.2))\n",
    "    model.add(tf.keras.layers.LSTM(65, return_sequences=True))\n",
    "    model.add(tf.keras.layers.Dropout(.2))\n",
    "    model.add(tf.keras.layers.Dense(n_y, activation=tf.keras.activations.softmax))\n",
    "\n",
    "    model.compile(loss=tf.keras.losses.CategoricalCrossentropy(), optimizer='adam', metrics=['acc'])\n",
    "    # model.summary()\n",
    "    model.fit(x=train_x, y=train_y, validation_data=(val_x, val_y), epochs=10, batch_size=1024)\n",
    "    predict = model.predict(test_x)"
   ],
   "metadata": {
    "collapsed": false,
    "pycharm": {
     "name": "#%%\n"
    }
   }
  },
  {
   "cell_type": "code",
   "execution_count": 40,
   "outputs": [],
   "source": [
    "def get_labels(windows):\n",
    "    predicted_labels = []\n",
    "\n",
    "    for p in windows:\n",
    "        df = pd.DataFrame(p)\n",
    "        probabilities = []\n",
    "\n",
    "        for col in df.columns:\n",
    "            probabilities.append(df[col].mean())\n",
    "        predicted_labels.append(np.argmax(probabilities))\n",
    "    return predicted_labels"
   ],
   "metadata": {
    "collapsed": false,
    "pycharm": {
     "name": "#%%\n"
    }
   }
  },
  {
   "cell_type": "code",
   "execution_count": 85,
   "outputs": [],
   "source": [
    "gold_labels = get_labels(test_y)\n",
    "predicted_labels = get_labels(predict)"
   ],
   "metadata": {
    "collapsed": false,
    "pycharm": {
     "name": "#%%\n"
    }
   }
  },
  {
   "cell_type": "code",
   "execution_count": 86,
   "outputs": [
    {
     "data": {
      "text/plain": "0.752553632060654"
     },
     "execution_count": 86,
     "metadata": {},
     "output_type": "execute_result"
    }
   ],
   "source": [
    "f1_score(gold_labels, predicted_labels, average='weighted')"
   ],
   "metadata": {
    "collapsed": false,
    "pycharm": {
     "name": "#%%\n"
    }
   }
  },
  {
   "cell_type": "code",
   "execution_count": 87,
   "outputs": [
    {
     "data": {
      "text/plain": "<tf.Tensor: shape=(7, 7), dtype=int32, numpy=\narray([[2860,    4,   19,   54,    3,    0,    0],\n       [   8, 2737,  507,   55,    4,    0,    0],\n       [  57,  531, 4542,  388,  109,    0,    4],\n       [  17,  151,  718,  323,   80,    1,    7],\n       [  10,   11,  362,  151,  370,    0,    0],\n       [   0,   11,   23,   22,   16,    8,    0],\n       [  12,    5,   31,    6,    7,    0,   45]])>"
     },
     "execution_count": 87,
     "metadata": {},
     "output_type": "execute_result"
    }
   ],
   "source": [
    "tf.math.confusion_matrix(gold_labels, predicted_labels)"
   ],
   "metadata": {
    "collapsed": false,
    "pycharm": {
     "name": "#%%\n"
    }
   }
  },
  {
   "cell_type": "code",
   "execution_count": null,
   "outputs": [],
   "source": [],
   "metadata": {
    "collapsed": false,
    "pycharm": {
     "name": "#%%\n"
    }
   }
  }
 ],
 "metadata": {
  "kernelspec": {
   "display_name": "Python 3",
   "language": "python",
   "name": "python3"
  },
  "language_info": {
   "codemirror_mode": {
    "name": "ipython",
    "version": 2
   },
   "file_extension": ".py",
   "mimetype": "text/x-python",
   "name": "python",
   "nbconvert_exporter": "python",
   "pygments_lexer": "ipython2",
   "version": "2.7.6"
  }
 },
 "nbformat": 4,
 "nbformat_minor": 0
}