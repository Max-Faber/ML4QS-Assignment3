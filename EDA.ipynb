{
 "cells": [
  {
   "cell_type": "code",
   "execution_count": 1,
   "metadata": {
    "collapsed": true,
    "pycharm": {
     "name": "#%%\n"
    }
   },
   "outputs": [],
   "source": [
    "import matplotlib.pyplot as plt\n",
    "import numpy as np\n",
    "import pandas as pd\n",
    "\n",
    "from trainTestValSplit import getTrainTestValSplit\n",
    "from definitions import ROOT_DIR\n",
    "from preProcessing import preProcess\n",
    "from definitions import main_activity_label_classes"
   ]
  },
  {
   "cell_type": "code",
   "execution_count": 2,
   "outputs": [],
   "source": [
    "# We need to get rid of all the NAN values\n",
    "\n",
    "train, test, val = getTrainTestValSplit(_dataset_path=f'{ROOT_DIR}/dataset/ExtraSensory/ExtraSensory.per_uuid_features_labels')\n",
    "total = pd.concat([train, test, val])\n",
    "total= total.drop(total.filter(regex='label:').columns, axis=1)\n",
    "del train, test, val"
   ],
   "metadata": {
    "collapsed": false,
    "pycharm": {
     "name": "#%%\n"
    }
   }
  },
  {
   "cell_type": "code",
   "execution_count": 3,
   "outputs": [],
   "source": [
    "#Get rid of every column with more than 50% NAN values\n",
    "drop_cols = (total.isnull().sum() / total.shape[0]) > 0.5\n",
    "drop_cols = drop_cols[drop_cols == True].index\n",
    "total = total.drop(columns=drop_cols)"
   ],
   "metadata": {
    "collapsed": false,
    "pycharm": {
     "name": "#%%\n"
    }
   }
  },
  {
   "cell_type": "code",
   "execution_count": 34,
   "outputs": [],
   "source": [
    "# Get rid of 'location' since we have the relative location given 'location (quick)\n",
    "location_columns= [col for col in total.columns if 'location:' in col]\n",
    "total = total.drop(columns= location_columns)"
   ],
   "metadata": {
    "collapsed": false,
    "pycharm": {
     "name": "#%%\n"
    }
   }
  },
  {
   "cell_type": "code",
   "execution_count": 5,
   "outputs": [],
   "source": [
    "# Every value for proximity is 0 in the dataset, so we can delete this\n",
    "total = total.drop(columns= ['lf_measurements:proximity'])"
   ],
   "metadata": {
    "collapsed": false,
    "pycharm": {
     "name": "#%%\n"
    }
   }
  },
  {
   "cell_type": "code",
   "execution_count": 68,
   "outputs": [],
   "source": [
    "# these variables show normality, hence the mean is used to fill NA values\n",
    "total['location_quick_features:lat_change'].fillna(value= total['location_quick_features:lat_change'].mean(), inplace= True)\n",
    "total['location_quick_features:long_change'].fillna(value= total['location_quick_features:long_change'].mean(), inplace= True)"
   ],
   "metadata": {
    "collapsed": false,
    "pycharm": {
     "name": "#%%\n"
    }
   }
  },
  {
   "cell_type": "code",
   "execution_count": 85,
   "outputs": [],
   "source": [
    "df = total[total.isnull().sum(axis=1) < 46]"
   ],
   "metadata": {
    "collapsed": false,
    "pycharm": {
     "name": "#%%\n"
    }
   }
  },
  {
   "cell_type": "code",
   "execution_count": 8,
   "outputs": [
    {
     "data": {
      "text/plain": "proc_gyro:magnitude_stats:mean               0.033338\nproc_gyro:magnitude_stats:std                0.033338\nproc_gyro:magnitude_stats:moment3            0.033338\nproc_gyro:magnitude_stats:moment4            0.033338\nproc_gyro:magnitude_stats:percentile25       0.033338\n                                               ...   \naudio_naive:mfcc12:std                       0.013193\naudio_properties:max_abs_value               0.008365\naudio_properties:normalization_multiplier    0.008365\nlf_measurements:battery_level                0.000075\nlf_measurements:screen_brightness            0.447070\nLength: 102, dtype: float64"
     },
     "execution_count": 8,
     "metadata": {},
     "output_type": "execute_result"
    }
   ],
   "source": [
    "relative_nan = (df.isnull().sum() / df.shape[0])\n",
    "relative_nan[relative_nan > 0]"
   ],
   "metadata": {
    "collapsed": false,
    "pycharm": {
     "name": "#%%\n"
    }
   }
  },
  {
   "cell_type": "code",
   "execution_count": null,
   "outputs": [],
   "source": [
    "#We need to get rid of outliers"
   ],
   "metadata": {
    "collapsed": false,
    "pycharm": {
     "name": "#%%\n"
    }
   }
  },
  {
   "cell_type": "code",
   "execution_count": null,
   "outputs": [],
   "source": [],
   "metadata": {
    "collapsed": false,
    "pycharm": {
     "name": "#%%\n"
    }
   }
  },
  {
   "cell_type": "code",
   "execution_count": 3,
   "outputs": [],
   "source": [
    "train, test, val = getTrainTestValSplit(_dataset_path=f'{ROOT_DIR}/dataset/ExtraSensory/ExtraSensory.per_uuid_features_labels')"
   ],
   "metadata": {
    "collapsed": false,
    "pycharm": {
     "name": "#%%\n"
    }
   }
  },
  {
   "cell_type": "code",
   "execution_count": 4,
   "outputs": [],
   "source": [
    "# drop columns with more than 50% NA values\n",
    "train2 = train.drop(train.filter(regex='label:').columns, axis=1) # Do not take label in account\n",
    "drop_cols = (train2.isnull().sum() / train2.shape[0]) > 0.5 #Columns with more than 50% missing values\n",
    "drop_cols = drop_cols[drop_cols == True].index\n",
    "train = train.drop(columns=drop_cols)\n",
    "del train2"
   ],
   "metadata": {
    "collapsed": false,
    "pycharm": {
     "name": "#%%\n"
    }
   }
  },
  {
   "cell_type": "code",
   "execution_count": 5,
   "outputs": [
    {
     "data": {
      "text/plain": "<Figure size 1080x360 with 1 Axes>",
      "image/png": "[encoded data removed]"
     },
     "metadata": {
      "needs_background": "light"
     },
     "output_type": "display_data"
    }
   ],
   "source": [
    "# What is the label distribution?\n",
    "train_x, train_y = preProcess(train)\n",
    "test_x, test_y = preProcess(test)\n",
    "val_x, val_y = preProcess(val)\n",
    "del train_x, test_x, val_x\n",
    "\n",
    "train_y = train_y.value_counts(normalize=True).sort_index()\n",
    "test_y  = test_y.value_counts(normalize=True).sort_index()\n",
    "val_y =  val_y.value_counts(normalize=True).sort_index()\n",
    "\n",
    "X = main_activity_label_classes.keys()\n",
    "X_axis = np.arange(len(X))\n",
    "\n",
    "plt.figure(figsize=(15,5))\n",
    "plt.bar(X_axis-0.2, train_y, width=0.2, label= 'train')\n",
    "plt.bar(X_axis, test_y, width=0.2, label= 'test')\n",
    "plt.bar(X_axis+0.2, val_y, width=0.2, label= 'val')\n",
    "plt.xticks(X_axis, X)\n",
    "plt.legend()\n",
    "plt.ylabel('Proportion')\n",
    "plt.xlabel('Class')\n",
    "plt.title('Distribution of class labels among splits')\n",
    "plt.show()"
   ],
   "metadata": {
    "collapsed": false,
    "pycharm": {
     "name": "#%%\n"
    }
   }
  },
  {
   "cell_type": "code",
   "execution_count": 6,
   "outputs": [
    {
     "name": "stdout",
     "output_type": "stream",
     "text": [
      "timestamp\n",
      "raw_acc:magnitude_stats:mean\n",
      "raw_acc:magnitude_stats:std\n",
      "raw_acc:magnitude_stats:moment3\n",
      "raw_acc:magnitude_stats:moment4\n",
      "raw_acc:magnitude_stats:percentile25\n",
      "raw_acc:magnitude_stats:percentile50\n",
      "raw_acc:magnitude_stats:percentile75\n",
      "raw_acc:magnitude_stats:value_entropy\n",
      "raw_acc:magnitude_stats:time_entropy\n",
      "raw_acc:magnitude_spectrum:log_energy_band0\n",
      "raw_acc:magnitude_spectrum:log_energy_band1\n",
      "raw_acc:magnitude_spectrum:log_energy_band2\n",
      "raw_acc:magnitude_spectrum:log_energy_band3\n",
      "raw_acc:magnitude_spectrum:log_energy_band4\n",
      "raw_acc:magnitude_spectrum:spectral_entropy\n",
      "raw_acc:magnitude_autocorrelation:period\n",
      "raw_acc:magnitude_autocorrelation:normalized_ac\n",
      "raw_acc:3d:mean_x\n",
      "raw_acc:3d:mean_y\n",
      "raw_acc:3d:mean_z\n",
      "raw_acc:3d:std_x\n",
      "raw_acc:3d:std_y\n",
      "raw_acc:3d:std_z\n",
      "raw_acc:3d:ro_xy\n",
      "raw_acc:3d:ro_xz\n",
      "raw_acc:3d:ro_yz\n",
      "proc_gyro:magnitude_stats:mean\n",
      "proc_gyro:magnitude_stats:std\n",
      "proc_gyro:magnitude_stats:moment3\n",
      "proc_gyro:magnitude_stats:moment4\n",
      "proc_gyro:magnitude_stats:percentile25\n",
      "proc_gyro:magnitude_stats:percentile50\n",
      "proc_gyro:magnitude_stats:percentile75\n",
      "proc_gyro:magnitude_stats:value_entropy\n",
      "proc_gyro:magnitude_stats:time_entropy\n",
      "proc_gyro:magnitude_spectrum:log_energy_band0\n",
      "proc_gyro:magnitude_spectrum:log_energy_band1\n",
      "proc_gyro:magnitude_spectrum:log_energy_band2\n",
      "proc_gyro:magnitude_spectrum:log_energy_band3\n",
      "proc_gyro:magnitude_spectrum:log_energy_band4\n",
      "proc_gyro:magnitude_spectrum:spectral_entropy\n",
      "proc_gyro:magnitude_autocorrelation:period\n",
      "proc_gyro:magnitude_autocorrelation:normalized_ac\n",
      "proc_gyro:3d:mean_x\n",
      "proc_gyro:3d:mean_y\n",
      "proc_gyro:3d:mean_z\n",
      "proc_gyro:3d:std_x\n",
      "proc_gyro:3d:std_y\n",
      "proc_gyro:3d:std_z\n",
      "proc_gyro:3d:ro_xy\n",
      "proc_gyro:3d:ro_xz\n",
      "proc_gyro:3d:ro_yz\n",
      "raw_magnet:magnitude_stats:mean\n",
      "raw_magnet:magnitude_stats:std\n",
      "raw_magnet:magnitude_stats:moment3\n",
      "raw_magnet:magnitude_stats:moment4\n",
      "raw_magnet:magnitude_stats:percentile25\n",
      "raw_magnet:magnitude_stats:percentile50\n",
      "raw_magnet:magnitude_stats:percentile75\n",
      "raw_magnet:magnitude_stats:value_entropy\n",
      "raw_magnet:magnitude_stats:time_entropy\n",
      "raw_magnet:magnitude_spectrum:log_energy_band0\n",
      "raw_magnet:magnitude_spectrum:log_energy_band1\n",
      "raw_magnet:magnitude_spectrum:log_energy_band2\n",
      "raw_magnet:magnitude_spectrum:log_energy_band3\n",
      "raw_magnet:magnitude_spectrum:log_energy_band4\n",
      "raw_magnet:magnitude_spectrum:spectral_entropy\n",
      "raw_magnet:magnitude_autocorrelation:period\n",
      "raw_magnet:magnitude_autocorrelation:normalized_ac\n",
      "raw_magnet:3d:mean_x\n",
      "raw_magnet:3d:mean_y\n",
      "raw_magnet:3d:mean_z\n",
      "raw_magnet:3d:std_x\n",
      "raw_magnet:3d:std_y\n",
      "raw_magnet:3d:std_z\n",
      "raw_magnet:3d:ro_xy\n",
      "raw_magnet:3d:ro_xz\n",
      "raw_magnet:3d:ro_yz\n",
      "raw_magnet:avr_cosine_similarity_lag_range0\n",
      "raw_magnet:avr_cosine_similarity_lag_range1\n",
      "raw_magnet:avr_cosine_similarity_lag_range2\n",
      "raw_magnet:avr_cosine_similarity_lag_range3\n",
      "raw_magnet:avr_cosine_similarity_lag_range4\n",
      "watch_acceleration:magnitude_stats:mean\n",
      "watch_acceleration:magnitude_stats:std\n",
      "watch_acceleration:magnitude_stats:moment3\n",
      "watch_acceleration:magnitude_stats:moment4\n",
      "watch_acceleration:magnitude_stats:percentile25\n",
      "watch_acceleration:magnitude_stats:percentile50\n",
      "watch_acceleration:magnitude_stats:percentile75\n",
      "watch_acceleration:magnitude_stats:value_entropy\n",
      "watch_acceleration:magnitude_stats:time_entropy\n",
      "watch_acceleration:magnitude_spectrum:log_energy_band0\n",
      "watch_acceleration:magnitude_spectrum:log_energy_band1\n",
      "watch_acceleration:magnitude_spectrum:log_energy_band2\n",
      "watch_acceleration:magnitude_spectrum:log_energy_band3\n",
      "watch_acceleration:magnitude_spectrum:log_energy_band4\n",
      "watch_acceleration:magnitude_spectrum:spectral_entropy\n",
      "watch_acceleration:magnitude_autocorrelation:period\n",
      "watch_acceleration:magnitude_autocorrelation:normalized_ac\n",
      "watch_acceleration:3d:mean_x\n",
      "watch_acceleration:3d:mean_y\n",
      "watch_acceleration:3d:mean_z\n",
      "watch_acceleration:3d:std_x\n",
      "watch_acceleration:3d:std_y\n",
      "watch_acceleration:3d:std_z\n",
      "watch_acceleration:3d:ro_xy\n",
      "watch_acceleration:3d:ro_xz\n",
      "watch_acceleration:3d:ro_yz\n",
      "watch_acceleration:spectrum:x_log_energy_band0\n",
      "watch_acceleration:spectrum:x_log_energy_band1\n",
      "watch_acceleration:spectrum:x_log_energy_band2\n",
      "watch_acceleration:spectrum:x_log_energy_band3\n",
      "watch_acceleration:spectrum:x_log_energy_band4\n",
      "watch_acceleration:spectrum:y_log_energy_band0\n",
      "watch_acceleration:spectrum:y_log_energy_band1\n",
      "watch_acceleration:spectrum:y_log_energy_band2\n",
      "watch_acceleration:spectrum:y_log_energy_band3\n",
      "watch_acceleration:spectrum:y_log_energy_band4\n",
      "watch_acceleration:spectrum:z_log_energy_band0\n",
      "watch_acceleration:spectrum:z_log_energy_band1\n",
      "watch_acceleration:spectrum:z_log_energy_band2\n",
      "watch_acceleration:spectrum:z_log_energy_band3\n",
      "watch_acceleration:spectrum:z_log_energy_band4\n",
      "watch_acceleration:relative_directions:avr_cosine_similarity_lag_range0\n",
      "watch_acceleration:relative_directions:avr_cosine_similarity_lag_range1\n",
      "watch_acceleration:relative_directions:avr_cosine_similarity_lag_range2\n",
      "watch_acceleration:relative_directions:avr_cosine_similarity_lag_range3\n",
      "watch_acceleration:relative_directions:avr_cosine_similarity_lag_range4\n",
      "location:num_valid_updates\n",
      "location:log_latitude_range\n",
      "location:log_longitude_range\n",
      "location:min_altitude\n",
      "location:max_altitude\n",
      "location:best_horizontal_accuracy\n",
      "location:best_vertical_accuracy\n",
      "location:diameter\n",
      "location:log_diameter\n",
      "location_quick_features:std_lat\n",
      "location_quick_features:std_long\n",
      "location_quick_features:lat_change\n",
      "location_quick_features:long_change\n",
      "location_quick_features:mean_abs_lat_deriv\n",
      "location_quick_features:mean_abs_long_deriv\n",
      "audio_naive:mfcc0:mean\n",
      "audio_naive:mfcc1:mean\n",
      "audio_naive:mfcc2:mean\n",
      "audio_naive:mfcc3:mean\n",
      "audio_naive:mfcc4:mean\n",
      "audio_naive:mfcc5:mean\n",
      "audio_naive:mfcc6:mean\n",
      "audio_naive:mfcc7:mean\n",
      "audio_naive:mfcc8:mean\n",
      "audio_naive:mfcc9:mean\n",
      "audio_naive:mfcc10:mean\n",
      "audio_naive:mfcc11:mean\n",
      "audio_naive:mfcc12:mean\n",
      "audio_naive:mfcc0:std\n",
      "audio_naive:mfcc1:std\n",
      "audio_naive:mfcc2:std\n",
      "audio_naive:mfcc3:std\n",
      "audio_naive:mfcc4:std\n",
      "audio_naive:mfcc5:std\n",
      "audio_naive:mfcc6:std\n",
      "audio_naive:mfcc7:std\n",
      "audio_naive:mfcc8:std\n",
      "audio_naive:mfcc9:std\n",
      "audio_naive:mfcc10:std\n",
      "audio_naive:mfcc11:std\n",
      "audio_naive:mfcc12:std\n",
      "audio_properties:max_abs_value\n",
      "audio_properties:normalization_multiplier\n",
      "discrete:app_state:is_active\n",
      "discrete:app_state:is_inactive\n",
      "discrete:app_state:is_background\n",
      "discrete:app_state:missing\n",
      "discrete:battery_plugged:is_ac\n",
      "discrete:battery_plugged:is_usb\n",
      "discrete:battery_plugged:is_wireless\n",
      "discrete:battery_plugged:missing\n",
      "discrete:battery_state:is_unknown\n",
      "discrete:battery_state:is_unplugged\n",
      "discrete:battery_state:is_not_charging\n",
      "discrete:battery_state:is_discharging\n",
      "discrete:battery_state:is_charging\n",
      "discrete:battery_state:is_full\n",
      "discrete:battery_state:missing\n",
      "discrete:on_the_phone:is_False\n",
      "discrete:on_the_phone:is_True\n",
      "discrete:on_the_phone:missing\n",
      "discrete:ringer_mode:is_normal\n",
      "discrete:ringer_mode:is_silent_no_vibrate\n",
      "discrete:ringer_mode:is_silent_with_vibrate\n",
      "discrete:ringer_mode:missing\n",
      "discrete:wifi_status:is_not_reachable\n",
      "discrete:wifi_status:is_reachable_via_wifi\n",
      "discrete:wifi_status:is_reachable_via_wwan\n",
      "discrete:wifi_status:missing\n",
      "lf_measurements:proximity\n",
      "lf_measurements:battery_level\n",
      "lf_measurements:screen_brightness\n",
      "discrete:time_of_day:between0and6\n",
      "discrete:time_of_day:between3and9\n",
      "discrete:time_of_day:between6and12\n",
      "discrete:time_of_day:between9and15\n",
      "discrete:time_of_day:between12and18\n",
      "discrete:time_of_day:between15and21\n",
      "discrete:time_of_day:between18and24\n",
      "discrete:time_of_day:between21and3\n",
      "label:LYING_DOWN\n",
      "label:SITTING\n",
      "label:FIX_walking\n",
      "label:FIX_running\n",
      "label:BICYCLING\n",
      "label:SLEEPING\n",
      "label:LAB_WORK\n",
      "label:IN_CLASS\n",
      "label:IN_A_MEETING\n",
      "label:LOC_main_workplace\n",
      "label:OR_indoors\n",
      "label:OR_outside\n",
      "label:IN_A_CAR\n",
      "label:ON_A_BUS\n",
      "label:DRIVE_-_I_M_THE_DRIVER\n",
      "label:DRIVE_-_I_M_A_PASSENGER\n",
      "label:LOC_home\n",
      "label:FIX_restaurant\n",
      "label:PHONE_IN_POCKET\n",
      "label:OR_exercise\n",
      "label:COOKING\n",
      "label:SHOPPING\n",
      "label:STROLLING\n",
      "label:DRINKING__ALCOHOL_\n",
      "label:BATHING_-_SHOWER\n",
      "label:CLEANING\n",
      "label:DOING_LAUNDRY\n",
      "label:WASHING_DISHES\n",
      "label:WATCHING_TV\n",
      "label:SURFING_THE_INTERNET\n",
      "label:AT_A_PARTY\n",
      "label:AT_A_BAR\n",
      "label:LOC_beach\n",
      "label:SINGING\n",
      "label:TALKING\n",
      "label:COMPUTER_WORK\n",
      "label:EATING\n",
      "label:TOILET\n",
      "label:GROOMING\n",
      "label:DRESSING\n",
      "label:AT_THE_GYM\n",
      "label:STAIRS_-_GOING_UP\n",
      "label:STAIRS_-_GOING_DOWN\n",
      "label:ELEVATOR\n",
      "label:OR_standing\n",
      "label:AT_SCHOOL\n",
      "label:PHONE_IN_HAND\n",
      "label:PHONE_IN_BAG\n",
      "label:PHONE_ON_TABLE\n",
      "label:WITH_CO-WORKERS\n",
      "label:WITH_FRIENDS\n",
      "label_source\n",
      "target\n"
     ]
    }
   ],
   "source": [],
   "metadata": {
    "collapsed": false,
    "pycharm": {
     "name": "#%%\n"
    }
   }
  },
  {
   "cell_type": "code",
   "execution_count": null,
   "outputs": [],
   "source": [
    "train"
   ],
   "metadata": {
    "collapsed": false,
    "pycharm": {
     "name": "#%%\n"
    }
   }
  }
 ],
 "metadata": {
  "kernelspec": {
   "display_name": "Python 3",
   "language": "python",
   "name": "python3"
  },
  "language_info": {
   "codemirror_mode": {
    "name": "ipython",
    "version": 2
   },
   "file_extension": ".py",
   "mimetype": "text/x-python",
   "name": "python",
   "nbconvert_exporter": "python",
   "pygments_lexer": "ipython2",
   "version": "2.7.6"
  }
 },
 "nbformat": 4,
 "nbformat_minor": 0
}