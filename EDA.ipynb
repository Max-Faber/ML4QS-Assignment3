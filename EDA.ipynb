{
 "cells": [
  {
   "cell_type": "code",
   "execution_count": 2,
   "metadata": {
    "collapsed": true,
    "pycharm": {
     "name": "#%%\n"
    }
   },
   "outputs": [],
   "source": [
    "import matplotlib.pyplot as plt\n",
    "import numpy as np\n",
    "import pandas as pd\n",
    "from sklearn.neighbors import LocalOutlierFactor\n",
    "from os import listdir\n",
    "\n",
    "from trainTestValSplit import getTrainTestValSplit\n",
    "from definitions import ROOT_DIR\n",
    "from preProcessing import preProcess\n",
    "from definitions import main_activity_label_classes"
   ]
  },
  {
   "cell_type": "code",
   "execution_count": 3,
   "outputs": [
    {
     "name": "stdout",
     "output_type": "stream",
     "text": [
      "There are 377346 observations\n",
      "There are 228 features\n",
      "There are 51 labels\n",
      "0.2320 is a NA value\n"
     ]
    }
   ],
   "source": [
    "# Plotting the number of observations in the raw dataset, with the NA values and what users have the most NA values\n",
    "files = listdir('dataset/ExtraSensory/ExtraSensory.per_uuid_features_labels/')\n",
    "\n",
    "combined = []\n",
    "na_per_user = {}\n",
    "\n",
    "for file in files:\n",
    "    user = pd.read_csv('dataset/ExtraSensory/ExtraSensory.per_uuid_features_labels/' + file)\n",
    "    prop_na = user.isnull().sum().sum() / (user.shape[0] * user.shape[1])\n",
    "    na_per_user[file] = prop_na\n",
    "\n",
    "    combined.append(user)\n",
    "\n",
    "combined= pd.concat(combined, axis=0, ignore_index=True)\n",
    "\n",
    "num_features = len([col for col in user.columns if 'label:' in col])\n",
    "total_values = combined.shape[0] * combined.shape[1]\n",
    "\n",
    "print(f\"There are {combined.shape[0]} observations\")\n",
    "print(f\"There are {len(combined.columns) - num_features} features\")\n",
    "print(f\"There are {num_features} labels\")\n",
    "print(f\"{(sum(combined.isna().sum()) / total_values):.4f} is a NA value\")\n",
    "\n",
    "del user, prop_na"
   ],
   "metadata": {
    "collapsed": false,
    "pycharm": {
     "name": "#%%\n"
    }
   }
  },
  {
   "cell_type": "code",
   "execution_count": 17,
   "outputs": [
    {
     "data": {
      "text/plain": "         prop_na\ncount  60.000000\nmean    0.237148\nstd     0.081703\nmin     0.098709\n25%     0.184313\n50%     0.220242\n75%     0.282095\nmax     0.467861",
      "text/html": "<div>\n<style scoped>\n    .dataframe tbody tr th:only-of-type {\n        vertical-align: middle;\n    }\n\n    .dataframe tbody tr th {\n        vertical-align: top;\n    }\n\n    .dataframe thead th {\n        text-align: right;\n    }\n</style>\n<table border=\"1\" class=\"dataframe\">\n  <thead>\n    <tr style=\"text-align: right;\">\n      <th></th>\n      <th>prop_na</th>\n    </tr>\n  </thead>\n  <tbody>\n    <tr>\n      <th>count</th>\n      <td>60.000000</td>\n    </tr>\n    <tr>\n      <th>mean</th>\n      <td>0.237148</td>\n    </tr>\n    <tr>\n      <th>std</th>\n      <td>0.081703</td>\n    </tr>\n    <tr>\n      <th>min</th>\n      <td>0.098709</td>\n    </tr>\n    <tr>\n      <th>25%</th>\n      <td>0.184313</td>\n    </tr>\n    <tr>\n      <th>50%</th>\n      <td>0.220242</td>\n    </tr>\n    <tr>\n      <th>75%</th>\n      <td>0.282095</td>\n    </tr>\n    <tr>\n      <th>max</th>\n      <td>0.467861</td>\n    </tr>\n  </tbody>\n</table>\n</div>"
     },
     "execution_count": 17,
     "metadata": {},
     "output_type": "execute_result"
    }
   ],
   "source": [
    "# Describe the distribution of na values per user\n",
    "na_per_user_df = pd.DataFrame(na_per_user.values(), na_per_user.keys())\n",
    "na_per_user_df.columns = ['prop_na']\n",
    "na_per_user_df.describe()"
   ],
   "metadata": {
    "collapsed": false,
    "pycharm": {
     "name": "#%%\n"
    }
   }
  },
  {
   "cell_type": "code",
   "execution_count": 22,
   "outputs": [
    {
     "data": {
      "text/plain": "12"
     },
     "execution_count": 22,
     "metadata": {},
     "output_type": "execute_result"
    }
   ],
   "source": [
    "# How many users have high NA values\n",
    "len(na_per_user_df[na_per_user_df['prop_na'] > 0.3])"
   ],
   "metadata": {
    "collapsed": false,
    "pycharm": {
     "name": "#%%\n"
    }
   }
  },
  {
   "cell_type": "code",
   "execution_count": 30,
   "outputs": [
    {
     "data": {
      "text/plain": "timestamp                          0.000000\nraw_acc:magnitude_stats:mean       0.000769\nraw_acc:magnitude_stats:std        0.000769\nraw_acc:magnitude_stats:moment3    0.000769\nraw_acc:magnitude_stats:moment4    0.000769\n                                     ...   \nlabel:PHONE_ON_TABLE               0.569565\nlabel:WITH_CO-WORKERS              0.703021\nlabel:WITH_FRIENDS                 0.561638\nlabel_source                       0.000000\nUnnamed: 229                       1.000000\nLength: 279, dtype: float64"
     },
     "execution_count": 30,
     "metadata": {},
     "output_type": "execute_result"
    }
   ],
   "source": [
    "# Where are most of the NA values present\n",
    "combined.isna().sum() / combined.shape[0]"
   ],
   "metadata": {
    "collapsed": false,
    "pycharm": {
     "name": "#%%\n"
    }
   }
  },
  {
   "cell_type": "code",
   "execution_count": 24,
   "outputs": [],
   "source": [
    "train, test, val = getTrainTestValSplit(_dataset_path=f'{ROOT_DIR}/dataset/ExtraSensory/Processed')"
   ],
   "metadata": {
    "collapsed": false,
    "pycharm": {
     "name": "#%%\n"
    }
   }
  },
  {
   "cell_type": "code",
   "execution_count": 28,
   "outputs": [
    {
     "data": {
      "text/plain": "<Figure size 1080x360 with 1 Axes>",
      "image/png": "[encoded data removed]"
     },
     "metadata": {
      "needs_background": "light"
     },
     "output_type": "display_data"
    }
   ],
   "source": [
    "# What is the label distribution?\n",
    "train_x, train_y = preProcess(train)\n",
    "test_x, test_y = preProcess(test)\n",
    "val_x, val_y = preProcess(val)\n",
    "#del train_x, test_x, val_x\n",
    "\n",
    "train_y_count = train_y.value_counts(normalize=True).sort_index()\n",
    "test_y_count  = test_y.value_counts(normalize=True).sort_index()\n",
    "val_y_count =  val_y.value_counts(normalize=True).sort_index()\n",
    "\n",
    "X = main_activity_label_classes.keys()\n",
    "X_axis = np.arange(len(X))\n",
    "\n",
    "plt.figure(figsize=(15,5))\n",
    "plt.bar(X_axis-0.2, train_y_count, width=0.2, label= 'train')\n",
    "plt.bar(X_axis, test_y_count, width=0.2, label= 'test')\n",
    "plt.bar(X_axis+0.2, val_y_count, width=0.2, label= 'val')\n",
    "plt.xticks(X_axis, X)\n",
    "plt.legend()\n",
    "plt.ylabel('Proportion')\n",
    "plt.xlabel('Class')\n",
    "plt.title('Distribution of class labels among splits')\n",
    "plt.show()"
   ],
   "metadata": {
    "collapsed": false,
    "pycharm": {
     "name": "#%%\n"
    }
   }
  },
  {
   "cell_type": "code",
   "execution_count": 29,
   "outputs": [
    {
     "data": {
      "text/plain": "0         0\n1         0\n2         2\n3         2\n4         2\n         ..\n218750    4\n218751    4\n218752    4\n218753    4\n218754    4\nName: target, Length: 218755, dtype: int64"
     },
     "execution_count": 29,
     "metadata": {},
     "output_type": "execute_result"
    }
   ],
   "source": [
    "train_y"
   ],
   "metadata": {
    "collapsed": false,
    "pycharm": {
     "name": "#%%\n"
    }
   }
  },
  {
   "cell_type": "code",
   "execution_count": 12,
   "outputs": [],
   "source": [
    "# We have to check for outliers\n",
    "combined = pd.concat([train_x, test_x, val_x])"
   ],
   "metadata": {
    "collapsed": false,
    "pycharm": {
     "name": "#%%\n"
    }
   }
  },
  {
   "cell_type": "code",
   "execution_count": 42,
   "outputs": [],
   "source": [
    "lof = LocalOutlierFactor(n_neighbors=20)\n",
    "y_pred = lof.fit_predict(np.array(combined['raw_acc:3d:mean_x']).reshape(-1, 1))"
   ],
   "metadata": {
    "collapsed": false,
    "pycharm": {
     "name": "#%%\n"
    }
   }
  },
  {
   "cell_type": "code",
   "execution_count": 44,
   "outputs": [
    {
     "data": {
      "text/plain": "array([   433, 308221], dtype=int64)"
     },
     "execution_count": 44,
     "metadata": {},
     "output_type": "execute_result"
    }
   ],
   "source": [
    "np.unique(y_pred, return_counts=True)"
   ],
   "metadata": {
    "collapsed": false,
    "pycharm": {
     "name": "#%%\n"
    }
   }
  },
  {
   "cell_type": "code",
   "execution_count": null,
   "outputs": [],
   "source": [],
   "metadata": {
    "collapsed": false,
    "pycharm": {
     "name": "#%%\n"
    }
   }
  }
 ],
 "metadata": {
  "kernelspec": {
   "display_name": "Python 3",
   "language": "python",
   "name": "python3"
  },
  "language_info": {
   "codemirror_mode": {
    "name": "ipython",
    "version": 2
   },
   "file_extension": ".py",
   "mimetype": "text/x-python",
   "name": "python",
   "nbconvert_exporter": "python",
   "pygments_lexer": "ipython2",
   "version": "2.7.6"
  }
 },
 "nbformat": 4,
 "nbformat_minor": 0
}