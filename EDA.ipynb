{
 "cells": [
  {
   "cell_type": "code",
   "execution_count": 1,
   "metadata": {
    "collapsed": true,
    "pycharm": {
     "name": "#%%\n"
    }
   },
   "outputs": [],
   "source": [
    "from trainTestValSplit import getTrainTestValSplit\n",
    "from definitions import ROOT_DIR"
   ]
  },
  {
   "cell_type": "code",
   "execution_count": 2,
   "outputs": [
    {
     "name": "stderr",
     "output_type": "stream",
     "text": [
      "C:\\Users\\mike-\\Documents\\VU\\ML4QS-Assignment3\\venv\\lib\\site-packages\\pandas\\core\\internals\\construction.py:576: VisibleDeprecationWarning: Creating an ndarray from ragged nested sequences (which is a list-or-tuple of lists-or-tuples-or ndarrays with different lengths or shapes) is deprecated. If you meant to do this, you must specify 'dtype=object' when creating the ndarray.\n",
      "  values = np.array([convert(v) for v in values])\n"
     ]
    }
   ],
   "source": [
    "train, test, val = getTrainTestValSplit(_dataset_path=f'{ROOT_DIR}/dataset/ExtraSensory/ExtraSensory.per_uuid_features_labels')"
   ],
   "metadata": {
    "collapsed": false,
    "pycharm": {
     "name": "#%%\n"
    }
   }
  },
  {
   "cell_type": "code",
   "execution_count": 4,
   "outputs": [
    {
     "data": {
      "text/plain": "    timestamp  raw_acc:magnitude_stats:mean  raw_acc:magnitude_stats:std  \\\n0  1446679890                      1.002594                     0.007883   \n1  1446679951                      1.001775                     0.004925   \n2  1446680319                      1.000820                     0.005071   \n3  1446680380                      0.998604                     0.003899   \n4  1446680440                      1.004441                     0.006587   \n\n   raw_acc:magnitude_stats:moment3  raw_acc:magnitude_stats:moment4  \\\n0                         0.003915                         0.014942   \n1                         0.004835                         0.007279   \n2                         0.006390                         0.008822   \n3                         0.003218                         0.006914   \n4                         0.006456                         0.009489   \n\n   raw_acc:magnitude_stats:percentile25  raw_acc:magnitude_stats:percentile50  \\\n0                              0.998561                              1.001364   \n1                              0.998532                              1.000627   \n2                              0.998098                              0.999886   \n3                              0.996412                              0.998325   \n4                              0.999717                              1.003165   \n\n   raw_acc:magnitude_stats:percentile75  \\\n0                              1.005313   \n1                              1.003914   \n2                              1.001989   \n3                              1.000464   \n4                              1.007644   \n\n   raw_acc:magnitude_stats:value_entropy  \\\n0                               1.588519   \n1                               2.127292   \n2                               1.912200   \n3                               1.721122   \n4                               2.214256   \n\n   raw_acc:magnitude_stats:time_entropy  ...  label:STAIRS_-_GOING_DOWN  \\\n0                              6.684581  ...                        NaN   \n1                              6.684600  ...                        NaN   \n2                              6.684599  ...                        NaN   \n3                              6.684604  ...                        NaN   \n4                              6.684590  ...                        NaN   \n\n   label:ELEVATOR  label:OR_standing  label:AT_SCHOOL  label:PHONE_IN_HAND  \\\n0             0.0                0.0              1.0                  0.0   \n1             0.0                0.0              1.0                  0.0   \n2             0.0                0.0              1.0                  0.0   \n3             0.0                0.0              1.0                  0.0   \n4             0.0                0.0              1.0                  0.0   \n\n   label:PHONE_IN_BAG  label:PHONE_ON_TABLE  label:WITH_CO-WORKERS  \\\n0                 0.0                   1.0                    NaN   \n1                 0.0                   1.0                    NaN   \n2                 0.0                   1.0                    NaN   \n3                 0.0                   1.0                    NaN   \n4                 0.0                   1.0                    NaN   \n\n   label:WITH_FRIENDS  label_source  \n0                 0.0             2  \n1                 0.0             2  \n2                 0.0             2  \n3                 0.0             2  \n4                 0.0             2  \n\n[5 rows x 278 columns]",
      "text/html": "<div>\n<style scoped>\n    .dataframe tbody tr th:only-of-type {\n        vertical-align: middle;\n    }\n\n    .dataframe tbody tr th {\n        vertical-align: top;\n    }\n\n    .dataframe thead th {\n        text-align: right;\n    }\n</style>\n<table border=\"1\" class=\"dataframe\">\n  <thead>\n    <tr style=\"text-align: right;\">\n      <th></th>\n      <th>timestamp</th>\n      <th>raw_acc:magnitude_stats:mean</th>\n      <th>raw_acc:magnitude_stats:std</th>\n      <th>raw_acc:magnitude_stats:moment3</th>\n      <th>raw_acc:magnitude_stats:moment4</th>\n      <th>raw_acc:magnitude_stats:percentile25</th>\n      <th>raw_acc:magnitude_stats:percentile50</th>\n      <th>raw_acc:magnitude_stats:percentile75</th>\n      <th>raw_acc:magnitude_stats:value_entropy</th>\n      <th>raw_acc:magnitude_stats:time_entropy</th>\n      <th>...</th>\n      <th>label:STAIRS_-_GOING_DOWN</th>\n      <th>label:ELEVATOR</th>\n      <th>label:OR_standing</th>\n      <th>label:AT_SCHOOL</th>\n      <th>label:PHONE_IN_HAND</th>\n      <th>label:PHONE_IN_BAG</th>\n      <th>label:PHONE_ON_TABLE</th>\n      <th>label:WITH_CO-WORKERS</th>\n      <th>label:WITH_FRIENDS</th>\n      <th>label_source</th>\n    </tr>\n  </thead>\n  <tbody>\n    <tr>\n      <th>0</th>\n      <td>1446679890</td>\n      <td>1.002594</td>\n      <td>0.007883</td>\n      <td>0.003915</td>\n      <td>0.014942</td>\n      <td>0.998561</td>\n      <td>1.001364</td>\n      <td>1.005313</td>\n      <td>1.588519</td>\n      <td>6.684581</td>\n      <td>...</td>\n      <td>NaN</td>\n      <td>0.0</td>\n      <td>0.0</td>\n      <td>1.0</td>\n      <td>0.0</td>\n      <td>0.0</td>\n      <td>1.0</td>\n      <td>NaN</td>\n      <td>0.0</td>\n      <td>2</td>\n    </tr>\n    <tr>\n      <th>1</th>\n      <td>1446679951</td>\n      <td>1.001775</td>\n      <td>0.004925</td>\n      <td>0.004835</td>\n      <td>0.007279</td>\n      <td>0.998532</td>\n      <td>1.000627</td>\n      <td>1.003914</td>\n      <td>2.127292</td>\n      <td>6.684600</td>\n      <td>...</td>\n      <td>NaN</td>\n      <td>0.0</td>\n      <td>0.0</td>\n      <td>1.0</td>\n      <td>0.0</td>\n      <td>0.0</td>\n      <td>1.0</td>\n      <td>NaN</td>\n      <td>0.0</td>\n      <td>2</td>\n    </tr>\n    <tr>\n      <th>2</th>\n      <td>1446680319</td>\n      <td>1.000820</td>\n      <td>0.005071</td>\n      <td>0.006390</td>\n      <td>0.008822</td>\n      <td>0.998098</td>\n      <td>0.999886</td>\n      <td>1.001989</td>\n      <td>1.912200</td>\n      <td>6.684599</td>\n      <td>...</td>\n      <td>NaN</td>\n      <td>0.0</td>\n      <td>0.0</td>\n      <td>1.0</td>\n      <td>0.0</td>\n      <td>0.0</td>\n      <td>1.0</td>\n      <td>NaN</td>\n      <td>0.0</td>\n      <td>2</td>\n    </tr>\n    <tr>\n      <th>3</th>\n      <td>1446680380</td>\n      <td>0.998604</td>\n      <td>0.003899</td>\n      <td>0.003218</td>\n      <td>0.006914</td>\n      <td>0.996412</td>\n      <td>0.998325</td>\n      <td>1.000464</td>\n      <td>1.721122</td>\n      <td>6.684604</td>\n      <td>...</td>\n      <td>NaN</td>\n      <td>0.0</td>\n      <td>0.0</td>\n      <td>1.0</td>\n      <td>0.0</td>\n      <td>0.0</td>\n      <td>1.0</td>\n      <td>NaN</td>\n      <td>0.0</td>\n      <td>2</td>\n    </tr>\n    <tr>\n      <th>4</th>\n      <td>1446680440</td>\n      <td>1.004441</td>\n      <td>0.006587</td>\n      <td>0.006456</td>\n      <td>0.009489</td>\n      <td>0.999717</td>\n      <td>1.003165</td>\n      <td>1.007644</td>\n      <td>2.214256</td>\n      <td>6.684590</td>\n      <td>...</td>\n      <td>NaN</td>\n      <td>0.0</td>\n      <td>0.0</td>\n      <td>1.0</td>\n      <td>0.0</td>\n      <td>0.0</td>\n      <td>1.0</td>\n      <td>NaN</td>\n      <td>0.0</td>\n      <td>2</td>\n    </tr>\n  </tbody>\n</table>\n<p>5 rows × 278 columns</p>\n</div>"
     },
     "execution_count": 4,
     "metadata": {},
     "output_type": "execute_result"
    }
   ],
   "source": [
    "train.head()"
   ],
   "metadata": {
    "collapsed": false,
    "pycharm": {
     "name": "#%%\n"
    }
   }
  },
  {
   "cell_type": "code",
   "execution_count": 6,
   "outputs": [
    {
     "name": "stdout",
     "output_type": "stream",
     "text": [
      "timestamp\n",
      "raw_acc:magnitude_stats:mean\n",
      "raw_acc:magnitude_stats:std\n",
      "raw_acc:magnitude_stats:moment3\n",
      "raw_acc:magnitude_stats:moment4\n",
      "raw_acc:magnitude_stats:percentile25\n",
      "raw_acc:magnitude_stats:percentile50\n",
      "raw_acc:magnitude_stats:percentile75\n",
      "raw_acc:magnitude_stats:value_entropy\n",
      "raw_acc:magnitude_stats:time_entropy\n",
      "raw_acc:magnitude_spectrum:log_energy_band0\n",
      "raw_acc:magnitude_spectrum:log_energy_band1\n",
      "raw_acc:magnitude_spectrum:log_energy_band2\n",
      "raw_acc:magnitude_spectrum:log_energy_band3\n",
      "raw_acc:magnitude_spectrum:log_energy_band4\n",
      "raw_acc:magnitude_spectrum:spectral_entropy\n",
      "raw_acc:magnitude_autocorrelation:period\n",
      "raw_acc:magnitude_autocorrelation:normalized_ac\n",
      "raw_acc:3d:mean_x\n",
      "raw_acc:3d:mean_y\n",
      "raw_acc:3d:mean_z\n",
      "raw_acc:3d:std_x\n",
      "raw_acc:3d:std_y\n",
      "raw_acc:3d:std_z\n",
      "raw_acc:3d:ro_xy\n",
      "raw_acc:3d:ro_xz\n",
      "raw_acc:3d:ro_yz\n",
      "proc_gyro:magnitude_stats:mean\n",
      "proc_gyro:magnitude_stats:std\n",
      "proc_gyro:magnitude_stats:moment3\n",
      "proc_gyro:magnitude_stats:moment4\n",
      "proc_gyro:magnitude_stats:percentile25\n",
      "proc_gyro:magnitude_stats:percentile50\n",
      "proc_gyro:magnitude_stats:percentile75\n",
      "proc_gyro:magnitude_stats:value_entropy\n",
      "proc_gyro:magnitude_stats:time_entropy\n",
      "proc_gyro:magnitude_spectrum:log_energy_band0\n",
      "proc_gyro:magnitude_spectrum:log_energy_band1\n",
      "proc_gyro:magnitude_spectrum:log_energy_band2\n",
      "proc_gyro:magnitude_spectrum:log_energy_band3\n",
      "proc_gyro:magnitude_spectrum:log_energy_band4\n",
      "proc_gyro:magnitude_spectrum:spectral_entropy\n",
      "proc_gyro:magnitude_autocorrelation:period\n",
      "proc_gyro:magnitude_autocorrelation:normalized_ac\n",
      "proc_gyro:3d:mean_x\n",
      "proc_gyro:3d:mean_y\n",
      "proc_gyro:3d:mean_z\n",
      "proc_gyro:3d:std_x\n",
      "proc_gyro:3d:std_y\n",
      "proc_gyro:3d:std_z\n",
      "proc_gyro:3d:ro_xy\n",
      "proc_gyro:3d:ro_xz\n",
      "proc_gyro:3d:ro_yz\n",
      "raw_magnet:magnitude_stats:mean\n",
      "raw_magnet:magnitude_stats:std\n",
      "raw_magnet:magnitude_stats:moment3\n",
      "raw_magnet:magnitude_stats:moment4\n",
      "raw_magnet:magnitude_stats:percentile25\n",
      "raw_magnet:magnitude_stats:percentile50\n",
      "raw_magnet:magnitude_stats:percentile75\n",
      "raw_magnet:magnitude_stats:value_entropy\n",
      "raw_magnet:magnitude_stats:time_entropy\n",
      "raw_magnet:magnitude_spectrum:log_energy_band0\n",
      "raw_magnet:magnitude_spectrum:log_energy_band1\n",
      "raw_magnet:magnitude_spectrum:log_energy_band2\n",
      "raw_magnet:magnitude_spectrum:log_energy_band3\n",
      "raw_magnet:magnitude_spectrum:log_energy_band4\n",
      "raw_magnet:magnitude_spectrum:spectral_entropy\n",
      "raw_magnet:magnitude_autocorrelation:period\n",
      "raw_magnet:magnitude_autocorrelation:normalized_ac\n",
      "raw_magnet:3d:mean_x\n",
      "raw_magnet:3d:mean_y\n",
      "raw_magnet:3d:mean_z\n",
      "raw_magnet:3d:std_x\n",
      "raw_magnet:3d:std_y\n",
      "raw_magnet:3d:std_z\n",
      "raw_magnet:3d:ro_xy\n",
      "raw_magnet:3d:ro_xz\n",
      "raw_magnet:3d:ro_yz\n",
      "raw_magnet:avr_cosine_similarity_lag_range0\n",
      "raw_magnet:avr_cosine_similarity_lag_range1\n",
      "raw_magnet:avr_cosine_similarity_lag_range2\n",
      "raw_magnet:avr_cosine_similarity_lag_range3\n",
      "raw_magnet:avr_cosine_similarity_lag_range4\n",
      "watch_acceleration:magnitude_stats:mean\n",
      "watch_acceleration:magnitude_stats:std\n",
      "watch_acceleration:magnitude_stats:moment3\n",
      "watch_acceleration:magnitude_stats:moment4\n",
      "watch_acceleration:magnitude_stats:percentile25\n",
      "watch_acceleration:magnitude_stats:percentile50\n",
      "watch_acceleration:magnitude_stats:percentile75\n",
      "watch_acceleration:magnitude_stats:value_entropy\n",
      "watch_acceleration:magnitude_stats:time_entropy\n",
      "watch_acceleration:magnitude_spectrum:log_energy_band0\n",
      "watch_acceleration:magnitude_spectrum:log_energy_band1\n",
      "watch_acceleration:magnitude_spectrum:log_energy_band2\n",
      "watch_acceleration:magnitude_spectrum:log_energy_band3\n",
      "watch_acceleration:magnitude_spectrum:log_energy_band4\n",
      "watch_acceleration:magnitude_spectrum:spectral_entropy\n",
      "watch_acceleration:magnitude_autocorrelation:period\n",
      "watch_acceleration:magnitude_autocorrelation:normalized_ac\n",
      "watch_acceleration:3d:mean_x\n",
      "watch_acceleration:3d:mean_y\n",
      "watch_acceleration:3d:mean_z\n",
      "watch_acceleration:3d:std_x\n",
      "watch_acceleration:3d:std_y\n",
      "watch_acceleration:3d:std_z\n",
      "watch_acceleration:3d:ro_xy\n",
      "watch_acceleration:3d:ro_xz\n",
      "watch_acceleration:3d:ro_yz\n",
      "watch_acceleration:spectrum:x_log_energy_band0\n",
      "watch_acceleration:spectrum:x_log_energy_band1\n",
      "watch_acceleration:spectrum:x_log_energy_band2\n",
      "watch_acceleration:spectrum:x_log_energy_band3\n",
      "watch_acceleration:spectrum:x_log_energy_band4\n",
      "watch_acceleration:spectrum:y_log_energy_band0\n",
      "watch_acceleration:spectrum:y_log_energy_band1\n",
      "watch_acceleration:spectrum:y_log_energy_band2\n",
      "watch_acceleration:spectrum:y_log_energy_band3\n",
      "watch_acceleration:spectrum:y_log_energy_band4\n",
      "watch_acceleration:spectrum:z_log_energy_band0\n",
      "watch_acceleration:spectrum:z_log_energy_band1\n",
      "watch_acceleration:spectrum:z_log_energy_band2\n",
      "watch_acceleration:spectrum:z_log_energy_band3\n",
      "watch_acceleration:spectrum:z_log_energy_band4\n",
      "watch_acceleration:relative_directions:avr_cosine_similarity_lag_range0\n",
      "watch_acceleration:relative_directions:avr_cosine_similarity_lag_range1\n",
      "watch_acceleration:relative_directions:avr_cosine_similarity_lag_range2\n",
      "watch_acceleration:relative_directions:avr_cosine_similarity_lag_range3\n",
      "watch_acceleration:relative_directions:avr_cosine_similarity_lag_range4\n",
      "watch_heading:mean_cos\n",
      "watch_heading:std_cos\n",
      "watch_heading:mom3_cos\n",
      "watch_heading:mom4_cos\n",
      "watch_heading:mean_sin\n",
      "watch_heading:std_sin\n",
      "watch_heading:mom3_sin\n",
      "watch_heading:mom4_sin\n",
      "watch_heading:entropy_8bins\n",
      "location:num_valid_updates\n",
      "location:log_latitude_range\n",
      "location:log_longitude_range\n",
      "location:min_altitude\n",
      "location:max_altitude\n",
      "location:min_speed\n",
      "location:max_speed\n",
      "location:best_horizontal_accuracy\n",
      "location:best_vertical_accuracy\n",
      "location:diameter\n",
      "location:log_diameter\n",
      "location_quick_features:std_lat\n",
      "location_quick_features:std_long\n",
      "location_quick_features:lat_change\n",
      "location_quick_features:long_change\n",
      "location_quick_features:mean_abs_lat_deriv\n",
      "location_quick_features:mean_abs_long_deriv\n",
      "audio_naive:mfcc0:mean\n",
      "audio_naive:mfcc1:mean\n",
      "audio_naive:mfcc2:mean\n",
      "audio_naive:mfcc3:mean\n",
      "audio_naive:mfcc4:mean\n",
      "audio_naive:mfcc5:mean\n",
      "audio_naive:mfcc6:mean\n",
      "audio_naive:mfcc7:mean\n",
      "audio_naive:mfcc8:mean\n",
      "audio_naive:mfcc9:mean\n",
      "audio_naive:mfcc10:mean\n",
      "audio_naive:mfcc11:mean\n",
      "audio_naive:mfcc12:mean\n",
      "audio_naive:mfcc0:std\n",
      "audio_naive:mfcc1:std\n",
      "audio_naive:mfcc2:std\n",
      "audio_naive:mfcc3:std\n",
      "audio_naive:mfcc4:std\n",
      "audio_naive:mfcc5:std\n",
      "audio_naive:mfcc6:std\n",
      "audio_naive:mfcc7:std\n",
      "audio_naive:mfcc8:std\n",
      "audio_naive:mfcc9:std\n",
      "audio_naive:mfcc10:std\n",
      "audio_naive:mfcc11:std\n",
      "audio_naive:mfcc12:std\n",
      "audio_properties:max_abs_value\n",
      "audio_properties:normalization_multiplier\n",
      "discrete:app_state:is_active\n",
      "discrete:app_state:is_inactive\n",
      "discrete:app_state:is_background\n",
      "discrete:app_state:missing\n",
      "discrete:battery_plugged:is_ac\n",
      "discrete:battery_plugged:is_usb\n",
      "discrete:battery_plugged:is_wireless\n",
      "discrete:battery_plugged:missing\n",
      "discrete:battery_state:is_unknown\n",
      "discrete:battery_state:is_unplugged\n",
      "discrete:battery_state:is_not_charging\n",
      "discrete:battery_state:is_discharging\n",
      "discrete:battery_state:is_charging\n",
      "discrete:battery_state:is_full\n",
      "discrete:battery_state:missing\n",
      "discrete:on_the_phone:is_False\n",
      "discrete:on_the_phone:is_True\n",
      "discrete:on_the_phone:missing\n",
      "discrete:ringer_mode:is_normal\n",
      "discrete:ringer_mode:is_silent_no_vibrate\n",
      "discrete:ringer_mode:is_silent_with_vibrate\n",
      "discrete:ringer_mode:missing\n",
      "discrete:wifi_status:is_not_reachable\n",
      "discrete:wifi_status:is_reachable_via_wifi\n",
      "discrete:wifi_status:is_reachable_via_wwan\n",
      "discrete:wifi_status:missing\n",
      "lf_measurements:light\n",
      "lf_measurements:pressure\n",
      "lf_measurements:proximity_cm\n",
      "lf_measurements:proximity\n",
      "lf_measurements:relative_humidity\n",
      "lf_measurements:battery_level\n",
      "lf_measurements:screen_brightness\n",
      "lf_measurements:temperature_ambient\n",
      "discrete:time_of_day:between0and6\n",
      "discrete:time_of_day:between3and9\n",
      "discrete:time_of_day:between6and12\n",
      "discrete:time_of_day:between9and15\n",
      "discrete:time_of_day:between12and18\n",
      "discrete:time_of_day:between15and21\n",
      "discrete:time_of_day:between18and24\n",
      "discrete:time_of_day:between21and3\n",
      "label:LYING_DOWN\n",
      "label:SITTING\n",
      "label:FIX_walking\n",
      "label:FIX_running\n",
      "label:BICYCLING\n",
      "label:SLEEPING\n",
      "label:LAB_WORK\n",
      "label:IN_CLASS\n",
      "label:IN_A_MEETING\n",
      "label:LOC_main_workplace\n",
      "label:OR_indoors\n",
      "label:OR_outside\n",
      "label:IN_A_CAR\n",
      "label:ON_A_BUS\n",
      "label:DRIVE_-_I_M_THE_DRIVER\n",
      "label:DRIVE_-_I_M_A_PASSENGER\n",
      "label:LOC_home\n",
      "label:FIX_restaurant\n",
      "label:PHONE_IN_POCKET\n",
      "label:OR_exercise\n",
      "label:COOKING\n",
      "label:SHOPPING\n",
      "label:STROLLING\n",
      "label:DRINKING__ALCOHOL_\n",
      "label:BATHING_-_SHOWER\n",
      "label:CLEANING\n",
      "label:DOING_LAUNDRY\n",
      "label:WASHING_DISHES\n",
      "label:WATCHING_TV\n",
      "label:SURFING_THE_INTERNET\n",
      "label:AT_A_PARTY\n",
      "label:AT_A_BAR\n",
      "label:LOC_beach\n",
      "label:SINGING\n",
      "label:TALKING\n",
      "label:COMPUTER_WORK\n",
      "label:EATING\n",
      "label:TOILET\n",
      "label:GROOMING\n",
      "label:DRESSING\n",
      "label:AT_THE_GYM\n",
      "label:STAIRS_-_GOING_UP\n",
      "label:STAIRS_-_GOING_DOWN\n",
      "label:ELEVATOR\n",
      "label:OR_standing\n",
      "label:AT_SCHOOL\n",
      "label:PHONE_IN_HAND\n",
      "label:PHONE_IN_BAG\n",
      "label:PHONE_ON_TABLE\n",
      "label:WITH_CO-WORKERS\n",
      "label:WITH_FRIENDS\n",
      "label_source\n"
     ]
    }
   ],
   "source": [
    "for col in train.columns:\n",
    "    print(col)"
   ],
   "metadata": {
    "collapsed": false,
    "pycharm": {
     "name": "#%%\n"
    }
   }
  },
  {
   "cell_type": "code",
   "execution_count": 37,
   "outputs": [],
   "source": [
    "# drop columns with more than 50% NA values\n",
    "train2 = train.drop(train.filter(regex='label:').columns, axis=1) # Do not take label in account\n",
    "drop_cols = (train2.isnull().sum() / train2.shape[0]) > 0.5 #Columns with more than 50% missing values\n",
    "drop_cols = drop_cols[drop_cols == True].index\n",
    "train = train.drop(columns=drop_cols)\n",
    "del train2"
   ],
   "metadata": {
    "collapsed": false,
    "pycharm": {
     "name": "#%%\n"
    }
   }
  },
  {
   "cell_type": "code",
   "execution_count": 62,
   "outputs": [
    {
     "data": {
      "text/plain": "<AxesSubplot:>"
     },
     "execution_count": 62,
     "metadata": {},
     "output_type": "execute_result"
    },
    {
     "data": {
      "text/plain": "<Figure size 1080x360 with 1 Axes>",
      "image/png": "[encoded data removed]"
     },
     "metadata": {
      "needs_background": "light"
     },
     "output_type": "display_data"
    }
   ],
   "source": [
    "# What is the label distribution?\n",
    "train.filter(regex='label:').sum().plot(kind='bar', figsize=(15,5))"
   ],
   "metadata": {
    "collapsed": false,
    "pycharm": {
     "name": "#%%\n"
    }
   }
  },
  {
   "cell_type": "code",
   "execution_count": 55,
   "outputs": [
    {
     "data": {
      "text/plain": "(269578, 278)"
     },
     "execution_count": 55,
     "metadata": {},
     "output_type": "execute_result"
    }
   ],
   "source": [],
   "metadata": {
    "collapsed": false,
    "pycharm": {
     "name": "#%%\n"
    }
   }
  },
  {
   "cell_type": "code",
   "execution_count": null,
   "outputs": [],
   "source": [],
   "metadata": {
    "collapsed": false,
    "pycharm": {
     "name": "#%%\n"
    }
   }
  }
 ],
 "metadata": {
  "kernelspec": {
   "display_name": "Python 3",
   "language": "python",
   "name": "python3"
  },
  "language_info": {
   "codemirror_mode": {
    "name": "ipython",
    "version": 2
   },
   "file_extension": ".py",
   "mimetype": "text/x-python",
   "name": "python",
   "nbconvert_exporter": "python",
   "pygments_lexer": "ipython2",
   "version": "2.7.6"
  }
 },
 "nbformat": 4,
 "nbformat_minor": 0
}