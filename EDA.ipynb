{
 "cells": [
  {
   "cell_type": "code",
   "execution_count": 2,
   "metadata": {
    "collapsed": true,
    "pycharm": {
     "name": "#%%\n"
    }
   },
   "outputs": [],
   "source": [
    "import matplotlib.pyplot as plt\n",
    "import numpy as np\n",
    "import pandas as pd\n",
    "from sklearn.neighbors import LocalOutlierFactor\n",
    "from os import listdir\n",
    "from pykalman import KalmanFilter\n",
    "\n",
    "from trainTestValSplit import getTrainTestValSplit\n",
    "from definitions import ROOT_DIR\n",
    "from preProcessing import preProcess\n",
    "from definitions import main_activity_label_classes\n",
    "from loadSingleDataset import load_data"
   ]
  },
  {
   "cell_type": "code",
   "execution_count": 2,
   "outputs": [
    {
     "name": "stdout",
     "output_type": "stream",
     "text": [
      "There are 377346 observations\n",
      "There are 228 features\n",
      "There are 51 labels\n",
      "0.2320 is a NA value\n"
     ]
    }
   ],
   "source": [
    "# Plotting the number of observations in the raw dataset, with the NA values and what users have the most NA values\n",
    "files = listdir('dataset/ExtraSensory/ExtraSensory.per_uuid_features_labels/')\n",
    "\n",
    "combined = []\n",
    "na_per_user = {}\n",
    "\n",
    "for file in files:\n",
    "    user = pd.read_csv('dataset/ExtraSensory/ExtraSensory.per_uuid_features_labels/' + file)\n",
    "    prop_na = user.isnull().sum().sum() / (user.shape[0] * user.shape[1])\n",
    "    na_per_user[file] = prop_na\n",
    "\n",
    "    combined.append(user)\n",
    "\n",
    "combined= pd.concat(combined, axis=0, ignore_index=True)\n",
    "\n",
    "num_features = len([col for col in user.columns if 'label:' in col])\n",
    "total_values = combined.shape[0] * combined.shape[1]\n",
    "\n",
    "print(f\"There are {combined.shape[0]} observations\")\n",
    "print(f\"There are {len(combined.columns) - num_features} features\")\n",
    "print(f\"There are {num_features} labels\")\n",
    "print(f\"{(sum(combined.isna().sum()) / total_values):.4f} is a NA value\")\n",
    "\n",
    "del user, prop_na"
   ],
   "metadata": {
    "collapsed": false,
    "pycharm": {
     "name": "#%%\n"
    }
   }
  },
  {
   "cell_type": "code",
   "execution_count": 3,
   "outputs": [
    {
     "data": {
      "text/plain": "         prop_na\ncount  60.000000\nmean    0.237148\nstd     0.081703\nmin     0.098709\n25%     0.184313\n50%     0.220242\n75%     0.282095\nmax     0.467861",
      "text/html": "<div>\n<style scoped>\n    .dataframe tbody tr th:only-of-type {\n        vertical-align: middle;\n    }\n\n    .dataframe tbody tr th {\n        vertical-align: top;\n    }\n\n    .dataframe thead th {\n        text-align: right;\n    }\n</style>\n<table border=\"1\" class=\"dataframe\">\n  <thead>\n    <tr style=\"text-align: right;\">\n      <th></th>\n      <th>prop_na</th>\n    </tr>\n  </thead>\n  <tbody>\n    <tr>\n      <th>count</th>\n      <td>60.000000</td>\n    </tr>\n    <tr>\n      <th>mean</th>\n      <td>0.237148</td>\n    </tr>\n    <tr>\n      <th>std</th>\n      <td>0.081703</td>\n    </tr>\n    <tr>\n      <th>min</th>\n      <td>0.098709</td>\n    </tr>\n    <tr>\n      <th>25%</th>\n      <td>0.184313</td>\n    </tr>\n    <tr>\n      <th>50%</th>\n      <td>0.220242</td>\n    </tr>\n    <tr>\n      <th>75%</th>\n      <td>0.282095</td>\n    </tr>\n    <tr>\n      <th>max</th>\n      <td>0.467861</td>\n    </tr>\n  </tbody>\n</table>\n</div>"
     },
     "execution_count": 3,
     "metadata": {},
     "output_type": "execute_result"
    }
   ],
   "source": [
    "# Describe the distribution of na values per user\n",
    "na_per_user_df = pd.DataFrame(na_per_user.values(), na_per_user.keys())\n",
    "na_per_user_df.columns = ['prop_na']\n",
    "na_per_user_df.describe()"
   ],
   "metadata": {
    "collapsed": false,
    "pycharm": {
     "name": "#%%\n"
    }
   }
  },
  {
   "cell_type": "code",
   "execution_count": 4,
   "outputs": [
    {
     "data": {
      "text/plain": "12"
     },
     "execution_count": 4,
     "metadata": {},
     "output_type": "execute_result"
    }
   ],
   "source": [
    "# How many users have high NA values\n",
    "len(na_per_user_df[na_per_user_df['prop_na'] > 0.3])"
   ],
   "metadata": {
    "collapsed": false,
    "pycharm": {
     "name": "#%%\n"
    }
   }
  },
  {
   "cell_type": "code",
   "execution_count": 5,
   "outputs": [
    {
     "data": {
      "text/plain": "prop_na    0.556687\ndtype: float64"
     },
     "execution_count": 5,
     "metadata": {},
     "output_type": "execute_result"
    }
   ],
   "source": [
    "# Where are most of the NA values present\n",
    "rel_na_df = pd.DataFrame(combined.isna().sum() / combined.shape[0])\n",
    "rel_na_df.columns = ['prop_na']\n",
    "label_cols = [col for col in combined.columns if 'label:' in col]\n",
    "rel_na_df.loc[label_cols].sum() / rel_na_df.loc[label_cols].shape[0]"
   ],
   "metadata": {
    "collapsed": false,
    "pycharm": {
     "name": "#%%\n"
    }
   }
  },
  {
   "cell_type": "code",
   "execution_count": 6,
   "outputs": [],
   "source": [
    "train, test, val = getTrainTestValSplit(_dataset_path=f'{ROOT_DIR}/dataset/ExtraSensory/Processed')"
   ],
   "metadata": {
    "collapsed": false,
    "pycharm": {
     "name": "#%%\n"
    }
   }
  },
  {
   "cell_type": "code",
   "execution_count": 7,
   "outputs": [
    {
     "data": {
      "text/plain": "<Figure size 1080x360 with 1 Axes>",
      "image/png": "[encoded data removed]"
     },
     "metadata": {
      "needs_background": "light"
     },
     "output_type": "display_data"
    }
   ],
   "source": [
    "# What is the label distribution?\n",
    "train_x, train_y = preProcess(train)\n",
    "test_x, test_y = preProcess(test)\n",
    "val_x, val_y = preProcess(val)\n",
    "#del train_x, test_x, val_x\n",
    "\n",
    "train_y_count = train_y.value_counts(normalize=True).sort_index()\n",
    "test_y_count  = test_y.value_counts(normalize=True).sort_index()\n",
    "val_y_count =  val_y.value_counts(normalize=True).sort_index()\n",
    "\n",
    "X = main_activity_label_classes.keys()\n",
    "X_axis = np.arange(len(X))\n",
    "\n",
    "plt.figure(figsize=(15,5))\n",
    "plt.bar(X_axis-0.2, train_y_count, width=0.2, label= 'train')\n",
    "plt.bar(X_axis, test_y_count, width=0.2, label= 'test')\n",
    "plt.bar(X_axis+0.2, val_y_count, width=0.2, label= 'val')\n",
    "plt.xticks(X_axis, X)\n",
    "plt.legend()\n",
    "plt.ylabel('Proportion')\n",
    "plt.xlabel('Class')\n",
    "plt.title('Distribution of class labels among splits')\n",
    "plt.tight_layout()\n",
    "plt.savefig('Images/class_distribution.png')\n",
    "plt.show()"
   ],
   "metadata": {
    "collapsed": false,
    "pycharm": {
     "name": "#%%\n"
    }
   }
  },
  {
   "cell_type": "code",
   "execution_count": 8,
   "outputs": [
    {
     "name": "stdout",
     "output_type": "stream",
     "text": [
      "The proportion for the class 'UNKNOWN' is 0.162\n"
     ]
    }
   ],
   "source": [
    "# What is the proportion of the class unknown?\n",
    "combined = pd.concat([train_y, test_y, val_y])\n",
    "print(f\"The proportion for the class 'UNKNOWN' is {combined.value_counts().loc[0] / combined.value_counts().sum():.3f}\")"
   ],
   "metadata": {
    "collapsed": false,
    "pycharm": {
     "name": "#%%\n"
    }
   }
  },
  {
   "cell_type": "code",
   "execution_count": 6,
   "outputs": [],
   "source": [
    "combined, y = load_data('dataset/ExtraSensory/Processed/')"
   ],
   "metadata": {
    "collapsed": false,
    "pycharm": {
     "name": "#%%\n"
    }
   }
  },
  {
   "cell_type": "code",
   "execution_count": 7,
   "outputs": [],
   "source": [
    "cols_no_check = [col for col in combined.columns if 'discrete:' in col]\n",
    "cols_no_check.append('lf_measurements:battery_level')\n",
    "cols_no_check.append('label_source')\n",
    "cols_no_check.append('name')"
   ],
   "metadata": {
    "collapsed": false,
    "pycharm": {
     "name": "#%%\n"
    }
   }
  },
  {
   "cell_type": "code",
   "execution_count": 8,
   "outputs": [
    {
     "name": "stdout",
     "output_type": "stream",
     "text": [
      "proc_gyro:3d:mean_z has 3925 outliers\n",
      "raw_magnet:magnitude_stats:mean has 594 outliers\n",
      "raw_magnet:3d:mean_y has 1597 outliers\n",
      "raw_magnet:3d:mean_x has 967 outliers\n",
      "raw_acc:magnitude_stats:mean has 1060 outliers\n",
      "proc_gyro:3d:mean_y has 2653 outliers\n",
      "proc_gyro:3d:mean_x has 2499 outliers\n",
      "watch_acceleration:3d:mean_x has 1657 outliers\n",
      "audio_properties:max_abs_value has 1997 outliers\n",
      "watch_acceleration:magnitude_stats:mean has 1153 outliers\n",
      "raw_acc:3d:mean_x has 429 outliers\n",
      "watch_acceleration:3d:mean_z has 1970 outliers\n",
      "proc_gyro:magnitude_stats:mean has 5164 outliers\n",
      "location_quick_features:lat_change has 6849 outliers\n",
      "location_quick_features:long_change has 7372 outliers\n",
      "raw_acc:3d:mean_z has 310 outliers\n",
      "watch_acceleration:3d:mean_y has 1410 outliers\n",
      "raw_magnet:3d:mean_z has 965 outliers\n",
      "raw_acc:3d:mean_y has 133 outliers\n"
     ]
    }
   ],
   "source": [
    "#Delete all outliers based on lof\n",
    "for col in combined.drop(columns= cols_no_check).columns:\n",
    "    lof = LocalOutlierFactor(n_neighbors=20)\n",
    "    y_pred = lof.fit_predict(np.array(combined[col]).reshape(-1, 1))\n",
    "    combined['lof'] = y_pred\n",
    "    combined.loc[combined['lof'] == -1, col] = np.nan\n",
    "\n",
    "    unique, counts = np.unique(y_pred, return_counts=True)\n",
    "    print(f\"{col} has {counts[0]} outliers\")\n",
    "\n",
    "    kf = KalmanFilter(transition_matrices=[[1]], observation_matrices=[[1]])\n",
    "\n",
    "    col_with_mask = np.ma.masked_invalid(combined[col])\n",
    "    kf = kf.em(col_with_mask, n_iter=5)\n",
    "\n",
    "    (new_data, filtered_state_covariances) = kf.filter(col_with_mask)\n",
    "    combined[col] = new_data\n",
    "\n",
    "combined = combined.drop(columns=['lof'])\n",
    "\n",
    "#Plotten de hoeveel outliers per kolom"
   ],
   "metadata": {
    "collapsed": false,
    "pycharm": {
     "name": "#%%\n"
    }
   }
  },
  {
   "cell_type": "code",
   "execution_count": 10,
   "outputs": [],
   "source": [
    "for i, df_user in combined.groupby('name'):\n",
    "    name = df_user['name'].iloc[0]\n",
    "    df_user = df_user.drop(columns=['name'])\n",
    "    df_user.to_csv('dataset/ExtraSensory/Processed_outliers/' + name + '.csv', index=False)"
   ],
   "metadata": {
    "collapsed": false,
    "pycharm": {
     "name": "#%%\n"
    }
   }
  },
  {
   "cell_type": "code",
   "execution_count": 5,
   "outputs": [
    {
     "ename": "KeyboardInterrupt",
     "evalue": "",
     "output_type": "error",
     "traceback": [
      "\u001B[1;31m---------------------------------------------------------------------------\u001B[0m",
      "\u001B[1;31mKeyboardInterrupt\u001B[0m                         Traceback (most recent call last)",
      "Input \u001B[1;32mIn [5]\u001B[0m, in \u001B[0;36m<cell line: 6>\u001B[1;34m()\u001B[0m\n\u001B[0;32m      3\u001B[0m kf \u001B[38;5;241m=\u001B[39m KalmanFilter(transition_matrices\u001B[38;5;241m=\u001B[39m[[\u001B[38;5;241m1\u001B[39m]], observation_matrices\u001B[38;5;241m=\u001B[39m[[\u001B[38;5;241m1\u001B[39m]])\n\u001B[0;32m      5\u001B[0m numpy_matrix_state_with_mask \u001B[38;5;241m=\u001B[39m np\u001B[38;5;241m.\u001B[39mma\u001B[38;5;241m.\u001B[39mmasked_invalid(combined[\u001B[38;5;124m'\u001B[39m\u001B[38;5;124mraw_magnet:magnitude_stats:mean\u001B[39m\u001B[38;5;124m'\u001B[39m])\n\u001B[1;32m----> 6\u001B[0m kf \u001B[38;5;241m=\u001B[39m \u001B[43mkf\u001B[49m\u001B[38;5;241;43m.\u001B[39;49m\u001B[43mem\u001B[49m\u001B[43m(\u001B[49m\u001B[43mnumpy_matrix_state_with_mask\u001B[49m\u001B[43m,\u001B[49m\u001B[43m \u001B[49m\u001B[43mn_iter\u001B[49m\u001B[38;5;241;43m=\u001B[39;49m\u001B[38;5;241;43m5\u001B[39;49m\u001B[43m)\u001B[49m\n\u001B[0;32m      8\u001B[0m \u001B[38;5;66;03m# And apply the filter.\u001B[39;00m\n\u001B[0;32m      9\u001B[0m (new_data, filtered_state_covariances) \u001B[38;5;241m=\u001B[39m kf\u001B[38;5;241m.\u001B[39mfilter(numpy_matrix_state_with_mask)\n",
      "File \u001B[1;32m~\\Documents\\VU\\ML4QS-Assignment3\\venv\\lib\\site-packages\\pykalman\\standard.py:1428\u001B[0m, in \u001B[0;36mKalmanFilter.em\u001B[1;34m(self, X, y, n_iter, em_vars)\u001B[0m\n\u001B[0;32m   1412\u001B[0m     (smoothed_state_means, smoothed_state_covariances,\n\u001B[0;32m   1413\u001B[0m      kalman_smoothing_gains) \u001B[38;5;241m=\u001B[39m (\n\u001B[0;32m   1414\u001B[0m         _smooth(\n\u001B[1;32m   (...)\u001B[0m\n\u001B[0;32m   1418\u001B[0m         )\n\u001B[0;32m   1419\u001B[0m     )\n\u001B[0;32m   1420\u001B[0m     sigma_pair_smooth \u001B[38;5;241m=\u001B[39m _smooth_pair(\n\u001B[0;32m   1421\u001B[0m         smoothed_state_covariances,\n\u001B[0;32m   1422\u001B[0m         kalman_smoothing_gains\n\u001B[0;32m   1423\u001B[0m     )\n\u001B[0;32m   1424\u001B[0m     (\u001B[38;5;28mself\u001B[39m\u001B[38;5;241m.\u001B[39mtransition_matrices,  \u001B[38;5;28mself\u001B[39m\u001B[38;5;241m.\u001B[39mobservation_matrices,\n\u001B[0;32m   1425\u001B[0m      \u001B[38;5;28mself\u001B[39m\u001B[38;5;241m.\u001B[39mtransition_offsets, \u001B[38;5;28mself\u001B[39m\u001B[38;5;241m.\u001B[39mobservation_offsets,\n\u001B[0;32m   1426\u001B[0m      \u001B[38;5;28mself\u001B[39m\u001B[38;5;241m.\u001B[39mtransition_covariance, \u001B[38;5;28mself\u001B[39m\u001B[38;5;241m.\u001B[39mobservation_covariance,\n\u001B[0;32m   1427\u001B[0m      \u001B[38;5;28mself\u001B[39m\u001B[38;5;241m.\u001B[39minitial_state_mean, \u001B[38;5;28mself\u001B[39m\u001B[38;5;241m.\u001B[39minitial_state_covariance) \u001B[38;5;241m=\u001B[39m (\n\u001B[1;32m-> 1428\u001B[0m         \u001B[43m_em\u001B[49m\u001B[43m(\u001B[49m\u001B[43mZ\u001B[49m\u001B[43m,\u001B[49m\u001B[43m \u001B[49m\u001B[38;5;28;43mself\u001B[39;49m\u001B[38;5;241;43m.\u001B[39;49m\u001B[43mtransition_offsets\u001B[49m\u001B[43m,\u001B[49m\u001B[43m \u001B[49m\u001B[38;5;28;43mself\u001B[39;49m\u001B[38;5;241;43m.\u001B[39;49m\u001B[43mobservation_offsets\u001B[49m\u001B[43m,\u001B[49m\n\u001B[0;32m   1429\u001B[0m \u001B[43m            \u001B[49m\u001B[43msmoothed_state_means\u001B[49m\u001B[43m,\u001B[49m\u001B[43m \u001B[49m\u001B[43msmoothed_state_covariances\u001B[49m\u001B[43m,\u001B[49m\n\u001B[0;32m   1430\u001B[0m \u001B[43m            \u001B[49m\u001B[43msigma_pair_smooth\u001B[49m\u001B[43m,\u001B[49m\u001B[43m \u001B[49m\u001B[43mgiven\u001B[49m\u001B[38;5;241;43m=\u001B[39;49m\u001B[43mgiven\u001B[49m\n\u001B[0;32m   1431\u001B[0m \u001B[43m        \u001B[49m\u001B[43m)\u001B[49m\n\u001B[0;32m   1432\u001B[0m     )\n\u001B[0;32m   1433\u001B[0m \u001B[38;5;28;01mreturn\u001B[39;00m \u001B[38;5;28mself\u001B[39m\n",
      "File \u001B[1;32m~\\Documents\\VU\\ML4QS-Assignment3\\venv\\lib\\site-packages\\pykalman\\standard.py:646\u001B[0m, in \u001B[0;36m_em\u001B[1;34m(observations, transition_offsets, observation_offsets, smoothed_state_means, smoothed_state_covariances, pairwise_covariances, given)\u001B[0m\n\u001B[0;32m    644\u001B[0m     transition_covariance \u001B[38;5;241m=\u001B[39m given[\u001B[38;5;124m'\u001B[39m\u001B[38;5;124mtransition_covariance\u001B[39m\u001B[38;5;124m'\u001B[39m]\n\u001B[0;32m    645\u001B[0m \u001B[38;5;28;01melse\u001B[39;00m:\n\u001B[1;32m--> 646\u001B[0m     transition_covariance \u001B[38;5;241m=\u001B[39m \u001B[43m_em_transition_covariance\u001B[49m\u001B[43m(\u001B[49m\n\u001B[0;32m    647\u001B[0m \u001B[43m        \u001B[49m\u001B[43mtransition_matrix\u001B[49m\u001B[43m,\u001B[49m\u001B[43m \u001B[49m\u001B[43mtransition_offsets\u001B[49m\u001B[43m,\u001B[49m\n\u001B[0;32m    648\u001B[0m \u001B[43m        \u001B[49m\u001B[43msmoothed_state_means\u001B[49m\u001B[43m,\u001B[49m\u001B[43m \u001B[49m\u001B[43msmoothed_state_covariances\u001B[49m\u001B[43m,\u001B[49m\n\u001B[0;32m    649\u001B[0m \u001B[43m        \u001B[49m\u001B[43mpairwise_covariances\u001B[49m\n\u001B[0;32m    650\u001B[0m \u001B[43m    \u001B[49m\u001B[43m)\u001B[49m\n\u001B[0;32m    652\u001B[0m \u001B[38;5;28;01mif\u001B[39;00m \u001B[38;5;124m'\u001B[39m\u001B[38;5;124minitial_state_mean\u001B[39m\u001B[38;5;124m'\u001B[39m \u001B[38;5;129;01min\u001B[39;00m given:\n\u001B[0;32m    653\u001B[0m     initial_state_mean \u001B[38;5;241m=\u001B[39m given[\u001B[38;5;124m'\u001B[39m\u001B[38;5;124minitial_state_mean\u001B[39m\u001B[38;5;124m'\u001B[39m]\n",
      "File \u001B[1;32m~\\Documents\\VU\\ML4QS-Assignment3\\venv\\lib\\site-packages\\pykalman\\standard.py:822\u001B[0m, in \u001B[0;36m_em_transition_covariance\u001B[1;34m(transition_matrices, transition_offsets, smoothed_state_means, smoothed_state_covariances, pairwise_covariances)\u001B[0m\n\u001B[0;32m    810\u001B[0m     err \u001B[38;5;241m=\u001B[39m (\n\u001B[0;32m    811\u001B[0m         smoothed_state_means[t \u001B[38;5;241m+\u001B[39m \u001B[38;5;241m1\u001B[39m]\n\u001B[0;32m    812\u001B[0m         \u001B[38;5;241m-\u001B[39m np\u001B[38;5;241m.\u001B[39mdot(transition_matrix, smoothed_state_means[t])\n\u001B[0;32m    813\u001B[0m         \u001B[38;5;241m-\u001B[39m transition_offset\n\u001B[0;32m    814\u001B[0m     )\n\u001B[0;32m    815\u001B[0m     Vt1t_A \u001B[38;5;241m=\u001B[39m (\n\u001B[0;32m    816\u001B[0m         np\u001B[38;5;241m.\u001B[39mdot(pairwise_covariances[t \u001B[38;5;241m+\u001B[39m \u001B[38;5;241m1\u001B[39m],\n\u001B[0;32m    817\u001B[0m                transition_matrix\u001B[38;5;241m.\u001B[39mT)\n\u001B[0;32m    818\u001B[0m     )\n\u001B[0;32m    819\u001B[0m     res \u001B[38;5;241m+\u001B[39m\u001B[38;5;241m=\u001B[39m (\n\u001B[0;32m    820\u001B[0m         np\u001B[38;5;241m.\u001B[39mouter(err, err)\n\u001B[0;32m    821\u001B[0m         \u001B[38;5;241m+\u001B[39m np\u001B[38;5;241m.\u001B[39mdot(transition_matrix,\n\u001B[1;32m--> 822\u001B[0m                  \u001B[43mnp\u001B[49m\u001B[38;5;241;43m.\u001B[39;49m\u001B[43mdot\u001B[49m\u001B[43m(\u001B[49m\u001B[43msmoothed_state_covariances\u001B[49m\u001B[43m[\u001B[49m\u001B[43mt\u001B[49m\u001B[43m]\u001B[49m\u001B[43m,\u001B[49m\n\u001B[0;32m    823\u001B[0m \u001B[43m                        \u001B[49m\u001B[43mtransition_matrix\u001B[49m\u001B[38;5;241;43m.\u001B[39;49m\u001B[43mT\u001B[49m\u001B[43m)\u001B[49m)\n\u001B[0;32m    824\u001B[0m         \u001B[38;5;241m+\u001B[39m smoothed_state_covariances[t \u001B[38;5;241m+\u001B[39m \u001B[38;5;241m1\u001B[39m]\n\u001B[0;32m    825\u001B[0m         \u001B[38;5;241m-\u001B[39m Vt1t_A \u001B[38;5;241m-\u001B[39m Vt1t_A\u001B[38;5;241m.\u001B[39mT\n\u001B[0;32m    826\u001B[0m     )\n\u001B[0;32m    828\u001B[0m \u001B[38;5;28;01mreturn\u001B[39;00m (\u001B[38;5;241m1.0\u001B[39m \u001B[38;5;241m/\u001B[39m (n_timesteps \u001B[38;5;241m-\u001B[39m \u001B[38;5;241m1\u001B[39m)) \u001B[38;5;241m*\u001B[39m res\n",
      "File \u001B[1;32m<__array_function__ internals>:180\u001B[0m, in \u001B[0;36mdot\u001B[1;34m(*args, **kwargs)\u001B[0m\n",
      "\u001B[1;31mKeyboardInterrupt\u001B[0m: "
     ]
    }
   ],
   "source": [
    "from pykalman import KalmanFilter\n",
    "\n",
    "kf = KalmanFilter(transition_matrices=[[1]], observation_matrices=[[1]])\n",
    "\n",
    "numpy_matrix_state_with_mask = np.ma.masked_invalid(combined['raw_magnet:magnitude_stats:mean'])\n",
    "kf = kf.em(numpy_matrix_state_with_mask, n_iter=5)\n",
    "\n",
    "# And apply the filter.\n",
    "(new_data, filtered_state_covariances) = kf.filter(numpy_matrix_state_with_mask)\n",
    "\n"
   ],
   "metadata": {
    "collapsed": false,
    "pycharm": {
     "name": "#%%\n"
    }
   }
  },
  {
   "cell_type": "code",
   "execution_count": null,
   "outputs": [],
   "source": [],
   "metadata": {
    "collapsed": false,
    "pycharm": {
     "name": "#%%\n"
    }
   }
  }
 ],
 "metadata": {
  "kernelspec": {
   "display_name": "Python 3",
   "language": "python",
   "name": "python3"
  },
  "language_info": {
   "codemirror_mode": {
    "name": "ipython",
    "version": 2
   },
   "file_extension": ".py",
   "mimetype": "text/x-python",
   "name": "python",
   "nbconvert_exporter": "python",
   "pygments_lexer": "ipython2",
   "version": "2.7.6"
  }
 },
 "nbformat": 4,
 "nbformat_minor": 0
}