{
 "cells": [
  {
   "cell_type": "code",
   "execution_count": 1,
   "metadata": {
    "collapsed": true,
    "pycharm": {
     "name": "#%%\n"
    }
   },
   "outputs": [],
   "source": [
    "import matplotlib.pyplot as plt\n",
    "import numpy as np\n",
    "import pandas as pd\n",
    "from sklearn.neighbors import LocalOutlierFactor\n",
    "from os import listdir\n",
    "\n",
    "from trainTestValSplit import getTrainTestValSplit\n",
    "from definitions import ROOT_DIR\n",
    "from preProcessing import preProcess\n",
    "from definitions import main_activity_label_classes"
   ]
  },
  {
   "cell_type": "code",
   "execution_count": 14,
   "outputs": [
    {
     "name": "stdout",
     "output_type": "stream",
     "text": [
      "There are 377346 observations\n",
      "There are 228 features\n",
      "There are 51 labels\n",
      "0.2320 is a NA value\n"
     ]
    }
   ],
   "source": [
    "# Plotting the number of observations in the raw dataset, with the NA values and what users have the most NA values\n",
    "files = listdir('dataset/ExtraSensory/ExtraSensory.per_uuid_features_labels/')\n",
    "\n",
    "combined = []\n",
    "na_per_user = {}\n",
    "\n",
    "for file in files:\n",
    "    user = pd.read_csv('dataset/ExtraSensory/ExtraSensory.per_uuid_features_labels/' + file)\n",
    "    prop_na = user.isnull().sum().sum() / (user.shape[0] * user.shape[1])\n",
    "    na_per_user[file] = prop_na\n",
    "\n",
    "    combined.append(user)\n",
    "\n",
    "combined= pd.concat(combined, axis=0, ignore_index=True)\n",
    "\n",
    "num_features = len([col for col in user.columns if 'label:' in col])\n",
    "total_values = combined.shape[0] * combined.shape[1]\n",
    "\n",
    "print(f\"There are {combined.shape[0]} observations\")\n",
    "print(f\"There are {len(combined.columns) - num_features} features\")\n",
    "print(f\"There are {num_features} labels\")\n",
    "print(f\"{(sum(combined.isna().sum()) / total_values):.4f} is a NA value\")\n",
    "\n",
    "del user, prop_na"
   ],
   "metadata": {
    "collapsed": false,
    "pycharm": {
     "name": "#%%\n"
    }
   }
  },
  {
   "cell_type": "code",
   "execution_count": 25,
   "outputs": [
    {
     "data": {
      "text/plain": "               0\ncount  60.000000\nmean    0.237148\nstd     0.081703\nmin     0.098709\n25%     0.184313\n50%     0.220242\n75%     0.282095\nmax     0.467861",
      "text/html": "<div>\n<style scoped>\n    .dataframe tbody tr th:only-of-type {\n        vertical-align: middle;\n    }\n\n    .dataframe tbody tr th {\n        vertical-align: top;\n    }\n\n    .dataframe thead th {\n        text-align: right;\n    }\n</style>\n<table border=\"1\" class=\"dataframe\">\n  <thead>\n    <tr style=\"text-align: right;\">\n      <th></th>\n      <th>0</th>\n    </tr>\n  </thead>\n  <tbody>\n    <tr>\n      <th>count</th>\n      <td>60.000000</td>\n    </tr>\n    <tr>\n      <th>mean</th>\n      <td>0.237148</td>\n    </tr>\n    <tr>\n      <th>std</th>\n      <td>0.081703</td>\n    </tr>\n    <tr>\n      <th>min</th>\n      <td>0.098709</td>\n    </tr>\n    <tr>\n      <th>25%</th>\n      <td>0.184313</td>\n    </tr>\n    <tr>\n      <th>50%</th>\n      <td>0.220242</td>\n    </tr>\n    <tr>\n      <th>75%</th>\n      <td>0.282095</td>\n    </tr>\n    <tr>\n      <th>max</th>\n      <td>0.467861</td>\n    </tr>\n  </tbody>\n</table>\n</div>"
     },
     "execution_count": 25,
     "metadata": {},
     "output_type": "execute_result"
    }
   ],
   "source": [
    "# Describe the distribution of na values per user\n",
    "na_per_user_df = pd.DataFrame(na_per_user.values(), na_per_user.keys())\n",
    "na_per_user_df.describe()"
   ],
   "metadata": {
    "collapsed": false,
    "pycharm": {
     "name": "#%%\n"
    }
   }
  },
  {
   "cell_type": "code",
   "execution_count": 32,
   "outputs": [
    {
     "data": {
      "text/plain": "                                                        0\n00EABED2-271D-49D8-B599-1D4A09240601.features_l...   True\n098A72A5-E3E5-4F54-A152-BBDA0DF7B694.features_l...  False\n0A986513-7828-4D53-AA1F-E02D6DF9561B.features_l...  False\n0BFC35E2-4817-4865-BFA7-764742302A2D.features_l...  False\n0E6184E1-90C0-48EE-B25A-F1ECB7B9714E.features_l...  False\n1155FF54-63D3-4AB2-9863-8385D0BD0A13.features_l...  False\n11B5EC4D-4133-4289-B475-4E737182A406.features_l...  False\n136562B6-95B2-483D-88DC-065F28409FD2.features_l...  False\n1538C99F-BA1E-4EFB-A949-6C7C47701B20.features_l...   True\n1DBB0F6F-1F81-4A50-9DF4-CD62ACFA4842.features_l...  False\n24E40C4C-A349-4F9F-93AB-01D00FB994AF.features_l...  False\n27E04243-B138-4F40-A164-F40B60165CF3.features_l...  False\n2C32C23E-E30C-498A-8DD2-0EFB9150A02E.features_l...  False\n33A85C34-CFE4-4732-9E73-0A7AC861B27A.features_l...  False\n3600D531-0C55-44A7-AE95-A7A38519464E.features_l...  False\n40E170A7-607B-4578-AF04-F021C3B0384A.features_l...   True\n481F4DD2-7689-43B9-A2AA-C8772227162B.features_l...  False\n4E98F91F-4654-42EF-B908-A3389443F2E7.features_l...  False\n4FC32141-E888-4BFF-8804-12559A491D8C.features_l...  False\n5119D0F8-FCA8-4184-A4EB-19421A40DE0D.features_l...  False\n5152A2DF-FAF3-4BA8-9CA9-E66B32671A53.features_l...   True\n59818CD2-24D7-4D32-B133-24C2FE3801E5.features_l...  False\n59EEFAE0-DEB0-4FFF-9250-54D2A03D0CF2.features_l...  False\n5EF64122-B513-46AE-BCF1-E62AAC285D2C.features_l...  False\n61359772-D8D8-480D-B623-7C636EAD0C81.features_l...   True\n61976C24-1C50-4355-9C49-AAE44A7D09F6.features_l...   True\n665514DE-49DC-421F-8DCB-145D0B2609AD.features_l...  False\n74B86067-5D4B-43CF-82CF-341B76BEA0F4.features_l...  False\n78A91A4E-4A51-4065-BDA7-94755F0BB3BB.features_l...  False\n797D145F-3858-4A7F-A7C2-A4EB721E133C.features_l...  False\n7CE37510-56D0-4120-A1CF-0E23351428D2.features_l...  False\n7D9BB102-A612-4E2A-8E22-3159752F55D8.features_l...   True\n8023FE1A-D3B0-4E2C-A57A-9321B7FC755F.features_l...  False\n806289BC-AD52-4CC1-806C-0CDB14D65EB6.features_l...  False\n81536B0A-8DBF-4D8A-AC24-9543E2E4C8E0.features_l...  False\n83CF687B-7CEC-434B-9FE8-00C3D5799BE6.features_l...  False\n86A4F379-B305-473D-9D83-FC7D800180EF.features_l...   True\n96A358A0-FFF2-4239-B93E-C7425B901B47.features_l...   True\n9759096F-1119-4E19-A0AD-6F16989C7E1C.features_l...  False\n99B204C0-DD5C-4BB7-83E8-A37281B8D769.features_l...  False\n9DC38D04-E82E-4F29-AB52-B476535226F2.features_l...  False\nA5A30F76-581E-4757-97A2-957553A2C6AA.features_l...  False\nA5CDF89D-02A2-4EC1-89F8-F534FDABDD96.features_l...  False\nA7599A50-24AE-46A6-8EA6-2576F1011D81.features_l...  False\nA76A5AF5-5A93-4CF2-A16E-62353BB70E8A.features_l...  False\nB09E373F-8A54-44C8-895B-0039390B859F.features_l...   True\nB7F9D634-263E-4A97-87F9-6FFB4DDCB36C.features_l...  False\nB9724848-C7E2-45F4-9B3F-A1F38D864495.features_l...  False\nBE3CA5A6-A561-4BBD-B7C9-5DF6805400FC.features_l...   True\nBEF6C611-50DA-4971-A040-87FB979F3FC1.features_l...  False\nC48CE857-A0DD-4DDB-BEA5-3A25449B2153.features_l...  False\nCA820D43-E5E2-42EF-9798-BE56F776370B.features_l...  False\nCCAF77F0-FABB-4F2F-9E24-D56AD0C5A82F.features_l...   True\nCDA3BBF7-6631-45E8-85BA-EEB416B32A3C.features_l...  False\nCF722AA9-2533-4E51-9FEB-9EAC84EE9AAC.features_l...  False\nD7D20E2E-FC78-405D-B346-DBD3FD8FC92B.features_l...  False\nE65577C1-8D5D-4F70-AF23-B3ADB9D3DBA3.features_l...  False\nECECC2AB-D32F-4F90-B74C-E12A1C69BBE2.features_l...   True\nF50235E0-DD67-4F2A-B00B-1F31ADA998B9.features_l...   True\nFDAA70A1-42A3-4E3F-9AE3-3FDA412E03BF.features_l...   True",
      "text/html": "<div>\n<style scoped>\n    .dataframe tbody tr th:only-of-type {\n        vertical-align: middle;\n    }\n\n    .dataframe tbody tr th {\n        vertical-align: top;\n    }\n\n    .dataframe thead th {\n        text-align: right;\n    }\n</style>\n<table border=\"1\" class=\"dataframe\">\n  <thead>\n    <tr style=\"text-align: right;\">\n      <th></th>\n      <th>0</th>\n    </tr>\n  </thead>\n  <tbody>\n    <tr>\n      <th>00EABED2-271D-49D8-B599-1D4A09240601.features_labels.csv</th>\n      <td>True</td>\n    </tr>\n    <tr>\n      <th>098A72A5-E3E5-4F54-A152-BBDA0DF7B694.features_labels.csv</th>\n      <td>False</td>\n    </tr>\n    <tr>\n      <th>0A986513-7828-4D53-AA1F-E02D6DF9561B.features_labels.csv</th>\n      <td>False</td>\n    </tr>\n    <tr>\n      <th>0BFC35E2-4817-4865-BFA7-764742302A2D.features_labels.csv</th>\n      <td>False</td>\n    </tr>\n    <tr>\n      <th>0E6184E1-90C0-48EE-B25A-F1ECB7B9714E.features_labels.csv</th>\n      <td>False</td>\n    </tr>\n    <tr>\n      <th>1155FF54-63D3-4AB2-9863-8385D0BD0A13.features_labels.csv</th>\n      <td>False</td>\n    </tr>\n    <tr>\n      <th>11B5EC4D-4133-4289-B475-4E737182A406.features_labels.csv</th>\n      <td>False</td>\n    </tr>\n    <tr>\n      <th>136562B6-95B2-483D-88DC-065F28409FD2.features_labels.csv</th>\n      <td>False</td>\n    </tr>\n    <tr>\n      <th>1538C99F-BA1E-4EFB-A949-6C7C47701B20.features_labels.csv</th>\n      <td>True</td>\n    </tr>\n    <tr>\n      <th>1DBB0F6F-1F81-4A50-9DF4-CD62ACFA4842.features_labels.csv</th>\n      <td>False</td>\n    </tr>\n    <tr>\n      <th>24E40C4C-A349-4F9F-93AB-01D00FB994AF.features_labels.csv</th>\n      <td>False</td>\n    </tr>\n    <tr>\n      <th>27E04243-B138-4F40-A164-F40B60165CF3.features_labels.csv</th>\n      <td>False</td>\n    </tr>\n    <tr>\n      <th>2C32C23E-E30C-498A-8DD2-0EFB9150A02E.features_labels.csv</th>\n      <td>False</td>\n    </tr>\n    <tr>\n      <th>33A85C34-CFE4-4732-9E73-0A7AC861B27A.features_labels.csv</th>\n      <td>False</td>\n    </tr>\n    <tr>\n      <th>3600D531-0C55-44A7-AE95-A7A38519464E.features_labels.csv</th>\n      <td>False</td>\n    </tr>\n    <tr>\n      <th>40E170A7-607B-4578-AF04-F021C3B0384A.features_labels.csv</th>\n      <td>True</td>\n    </tr>\n    <tr>\n      <th>481F4DD2-7689-43B9-A2AA-C8772227162B.features_labels.csv</th>\n      <td>False</td>\n    </tr>\n    <tr>\n      <th>4E98F91F-4654-42EF-B908-A3389443F2E7.features_labels.csv</th>\n      <td>False</td>\n    </tr>\n    <tr>\n      <th>4FC32141-E888-4BFF-8804-12559A491D8C.features_labels.csv</th>\n      <td>False</td>\n    </tr>\n    <tr>\n      <th>5119D0F8-FCA8-4184-A4EB-19421A40DE0D.features_labels.csv</th>\n      <td>False</td>\n    </tr>\n    <tr>\n      <th>5152A2DF-FAF3-4BA8-9CA9-E66B32671A53.features_labels.csv</th>\n      <td>True</td>\n    </tr>\n    <tr>\n      <th>59818CD2-24D7-4D32-B133-24C2FE3801E5.features_labels.csv</th>\n      <td>False</td>\n    </tr>\n    <tr>\n      <th>59EEFAE0-DEB0-4FFF-9250-54D2A03D0CF2.features_labels.csv</th>\n      <td>False</td>\n    </tr>\n    <tr>\n      <th>5EF64122-B513-46AE-BCF1-E62AAC285D2C.features_labels.csv</th>\n      <td>False</td>\n    </tr>\n    <tr>\n      <th>61359772-D8D8-480D-B623-7C636EAD0C81.features_labels.csv</th>\n      <td>True</td>\n    </tr>\n    <tr>\n      <th>61976C24-1C50-4355-9C49-AAE44A7D09F6.features_labels.csv</th>\n      <td>True</td>\n    </tr>\n    <tr>\n      <th>665514DE-49DC-421F-8DCB-145D0B2609AD.features_labels.csv</th>\n      <td>False</td>\n    </tr>\n    <tr>\n      <th>74B86067-5D4B-43CF-82CF-341B76BEA0F4.features_labels.csv</th>\n      <td>False</td>\n    </tr>\n    <tr>\n      <th>78A91A4E-4A51-4065-BDA7-94755F0BB3BB.features_labels.csv</th>\n      <td>False</td>\n    </tr>\n    <tr>\n      <th>797D145F-3858-4A7F-A7C2-A4EB721E133C.features_labels.csv</th>\n      <td>False</td>\n    </tr>\n    <tr>\n      <th>7CE37510-56D0-4120-A1CF-0E23351428D2.features_labels.csv</th>\n      <td>False</td>\n    </tr>\n    <tr>\n      <th>7D9BB102-A612-4E2A-8E22-3159752F55D8.features_labels.csv</th>\n      <td>True</td>\n    </tr>\n    <tr>\n      <th>8023FE1A-D3B0-4E2C-A57A-9321B7FC755F.features_labels.csv</th>\n      <td>False</td>\n    </tr>\n    <tr>\n      <th>806289BC-AD52-4CC1-806C-0CDB14D65EB6.features_labels.csv</th>\n      <td>False</td>\n    </tr>\n    <tr>\n      <th>81536B0A-8DBF-4D8A-AC24-9543E2E4C8E0.features_labels.csv</th>\n      <td>False</td>\n    </tr>\n    <tr>\n      <th>83CF687B-7CEC-434B-9FE8-00C3D5799BE6.features_labels.csv</th>\n      <td>False</td>\n    </tr>\n    <tr>\n      <th>86A4F379-B305-473D-9D83-FC7D800180EF.features_labels.csv</th>\n      <td>True</td>\n    </tr>\n    <tr>\n      <th>96A358A0-FFF2-4239-B93E-C7425B901B47.features_labels.csv</th>\n      <td>True</td>\n    </tr>\n    <tr>\n      <th>9759096F-1119-4E19-A0AD-6F16989C7E1C.features_labels.csv</th>\n      <td>False</td>\n    </tr>\n    <tr>\n      <th>99B204C0-DD5C-4BB7-83E8-A37281B8D769.features_labels.csv</th>\n      <td>False</td>\n    </tr>\n    <tr>\n      <th>9DC38D04-E82E-4F29-AB52-B476535226F2.features_labels.csv</th>\n      <td>False</td>\n    </tr>\n    <tr>\n      <th>A5A30F76-581E-4757-97A2-957553A2C6AA.features_labels.csv</th>\n      <td>False</td>\n    </tr>\n    <tr>\n      <th>A5CDF89D-02A2-4EC1-89F8-F534FDABDD96.features_labels.csv</th>\n      <td>False</td>\n    </tr>\n    <tr>\n      <th>A7599A50-24AE-46A6-8EA6-2576F1011D81.features_labels.csv</th>\n      <td>False</td>\n    </tr>\n    <tr>\n      <th>A76A5AF5-5A93-4CF2-A16E-62353BB70E8A.features_labels.csv</th>\n      <td>False</td>\n    </tr>\n    <tr>\n      <th>B09E373F-8A54-44C8-895B-0039390B859F.features_labels.csv</th>\n      <td>True</td>\n    </tr>\n    <tr>\n      <th>B7F9D634-263E-4A97-87F9-6FFB4DDCB36C.features_labels.csv</th>\n      <td>False</td>\n    </tr>\n    <tr>\n      <th>B9724848-C7E2-45F4-9B3F-A1F38D864495.features_labels.csv</th>\n      <td>False</td>\n    </tr>\n    <tr>\n      <th>BE3CA5A6-A561-4BBD-B7C9-5DF6805400FC.features_labels.csv</th>\n      <td>True</td>\n    </tr>\n    <tr>\n      <th>BEF6C611-50DA-4971-A040-87FB979F3FC1.features_labels.csv</th>\n      <td>False</td>\n    </tr>\n    <tr>\n      <th>C48CE857-A0DD-4DDB-BEA5-3A25449B2153.features_labels.csv</th>\n      <td>False</td>\n    </tr>\n    <tr>\n      <th>CA820D43-E5E2-42EF-9798-BE56F776370B.features_labels.csv</th>\n      <td>False</td>\n    </tr>\n    <tr>\n      <th>CCAF77F0-FABB-4F2F-9E24-D56AD0C5A82F.features_labels.csv</th>\n      <td>True</td>\n    </tr>\n    <tr>\n      <th>CDA3BBF7-6631-45E8-85BA-EEB416B32A3C.features_labels.csv</th>\n      <td>False</td>\n    </tr>\n    <tr>\n      <th>CF722AA9-2533-4E51-9FEB-9EAC84EE9AAC.features_labels.csv</th>\n      <td>False</td>\n    </tr>\n    <tr>\n      <th>D7D20E2E-FC78-405D-B346-DBD3FD8FC92B.features_labels.csv</th>\n      <td>False</td>\n    </tr>\n    <tr>\n      <th>E65577C1-8D5D-4F70-AF23-B3ADB9D3DBA3.features_labels.csv</th>\n      <td>False</td>\n    </tr>\n    <tr>\n      <th>ECECC2AB-D32F-4F90-B74C-E12A1C69BBE2.features_labels.csv</th>\n      <td>True</td>\n    </tr>\n    <tr>\n      <th>F50235E0-DD67-4F2A-B00B-1F31ADA998B9.features_labels.csv</th>\n      <td>True</td>\n    </tr>\n    <tr>\n      <th>FDAA70A1-42A3-4E3F-9AE3-3FDA412E03BF.features_labels.csv</th>\n      <td>True</td>\n    </tr>\n  </tbody>\n</table>\n</div>"
     },
     "execution_count": 32,
     "metadata": {},
     "output_type": "execute_result"
    }
   ],
   "source": [
    "# Which users have the most NA values\n",
    "na_per_user_df > 0.282095"
   ],
   "metadata": {
    "collapsed": false,
    "pycharm": {
     "name": "#%%\n"
    }
   }
  },
  {
   "cell_type": "code",
   "execution_count": 2,
   "outputs": [],
   "source": [
    "train, test, val = getTrainTestValSplit(_dataset_path=f'{ROOT_DIR}/dataset/ExtraSensory/Processed')"
   ],
   "metadata": {
    "collapsed": false,
    "pycharm": {
     "name": "#%%\n"
    }
   }
  },
  {
   "cell_type": "code",
   "execution_count": 11,
   "outputs": [
    {
     "data": {
      "text/plain": "<Figure size 1080x360 with 1 Axes>",
      "image/png": "[encoded data removed]"
     },
     "metadata": {
      "needs_background": "light"
     },
     "output_type": "display_data"
    }
   ],
   "source": [
    "# What is the label distribution?\n",
    "train_x, train_y = preProcess(train)\n",
    "test_x, test_y = preProcess(test)\n",
    "val_x, val_y = preProcess(val)\n",
    "#del train_x, test_x, val_x\n",
    "\n",
    "train_y = train_y.value_counts(normalize=True).sort_index()\n",
    "test_y  = test_y.value_counts(normalize=True).sort_index()\n",
    "val_y =  val_y.value_counts(normalize=True).sort_index()\n",
    "\n",
    "X = main_activity_label_classes.keys()\n",
    "X_axis = np.arange(len(X))\n",
    "\n",
    "plt.figure(figsize=(15,5))\n",
    "plt.bar(X_axis-0.2, train_y, width=0.2, label= 'train')\n",
    "plt.bar(X_axis, test_y, width=0.2, label= 'test')\n",
    "plt.bar(X_axis+0.2, val_y, width=0.2, label= 'val')\n",
    "plt.xticks(X_axis, X)\n",
    "plt.legend()\n",
    "plt.ylabel('Proportion')\n",
    "plt.xlabel('Class')\n",
    "plt.title('Distribution of class labels among splits')\n",
    "plt.show()"
   ],
   "metadata": {
    "collapsed": false,
    "pycharm": {
     "name": "#%%\n"
    }
   }
  },
  {
   "cell_type": "code",
   "execution_count": 12,
   "outputs": [],
   "source": [
    "# We have to check for outliers\n",
    "combined = pd.concat([train_x, test_x, val_x])"
   ],
   "metadata": {
    "collapsed": false,
    "pycharm": {
     "name": "#%%\n"
    }
   }
  },
  {
   "cell_type": "code",
   "execution_count": 42,
   "outputs": [],
   "source": [
    "lof = LocalOutlierFactor(n_neighbors=20)\n",
    "y_pred = lof.fit_predict(np.array(combined['raw_acc:3d:mean_x']).reshape(-1, 1))"
   ],
   "metadata": {
    "collapsed": false,
    "pycharm": {
     "name": "#%%\n"
    }
   }
  },
  {
   "cell_type": "code",
   "execution_count": 44,
   "outputs": [
    {
     "data": {
      "text/plain": "array([   433, 308221], dtype=int64)"
     },
     "execution_count": 44,
     "metadata": {},
     "output_type": "execute_result"
    }
   ],
   "source": [
    "np.unique(y_pred, return_counts=True)"
   ],
   "metadata": {
    "collapsed": false,
    "pycharm": {
     "name": "#%%\n"
    }
   }
  },
  {
   "cell_type": "code",
   "execution_count": null,
   "outputs": [],
   "source": [],
   "metadata": {
    "collapsed": false,
    "pycharm": {
     "name": "#%%\n"
    }
   }
  }
 ],
 "metadata": {
  "kernelspec": {
   "display_name": "Python 3",
   "language": "python",
   "name": "python3"
  },
  "language_info": {
   "codemirror_mode": {
    "name": "ipython",
    "version": 2
   },
   "file_extension": ".py",
   "mimetype": "text/x-python",
   "name": "python",
   "nbconvert_exporter": "python",
   "pygments_lexer": "ipython2",
   "version": "2.7.6"
  }
 },
 "nbformat": 4,
 "nbformat_minor": 0
}