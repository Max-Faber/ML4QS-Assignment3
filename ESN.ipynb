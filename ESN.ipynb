{
 "cells": [
  {
   "cell_type": "code",
   "execution_count": 1,
   "outputs": [],
   "source": [
    "import tensorflow_addons as tfa\n",
    "\n",
    "from definitions import *\n",
    "from trainTestValSplit import getTrainTestValSplit\n",
    "from preProcessing import preProcess\n",
    "from sklearn.metrics import f1_score, precision_score, recall_score"
   ],
   "metadata": {
    "collapsed": false,
    "pycharm": {
     "name": "#%%\n"
    }
   }
  },
  {
   "cell_type": "code",
   "execution_count": 2,
   "outputs": [],
   "source": [
    "train_concat, test_concat, val_concat = getTrainTestValSplit(\n",
    "    _dataset_path=f'{ROOT_DIR}/dataset/ExtraSensory/Processed_outliers_with_labels'\n",
    ")"
   ],
   "metadata": {
    "collapsed": false,
    "pycharm": {
     "name": "#%%\n"
    }
   }
  },
  {
   "cell_type": "code",
   "execution_count": 3,
   "outputs": [],
   "source": [
    "train_x, train_y = preProcess(train_concat)\n",
    "test_x, test_y = preProcess(test_concat)\n",
    "val_x, val_y = preProcess(val_concat)"
   ],
   "metadata": {
    "collapsed": false,
    "pycharm": {
     "name": "#%%\n"
    }
   }
  },
  {
   "cell_type": "code",
   "execution_count": 4,
   "outputs": [],
   "source": [
    "n_neurons: int = 1024\n",
    "n_features: int = len(train_x.columns)"
   ],
   "metadata": {
    "collapsed": false,
    "pycharm": {
     "name": "#%%\n"
    }
   }
  },
  {
   "cell_type": "code",
   "execution_count": 5,
   "outputs": [],
   "source": [
    "train_x = train_x.to_numpy()\n",
    "train_y = train_y.to_numpy()\n",
    "test_x = test_x.to_numpy()\n",
    "test_y = test_y.to_numpy()\n",
    "val_x = val_x.to_numpy()\n",
    "val_y = val_y.to_numpy()"
   ],
   "metadata": {
    "collapsed": false,
    "pycharm": {
     "name": "#%%\n"
    }
   }
  },
  {
   "cell_type": "code",
   "execution_count": 6,
   "outputs": [],
   "source": [
    "train_y = encodeTarget(train_y)\n",
    "test_y = encodeTarget(test_y)\n",
    "val_y = encodeTarget(val_y)"
   ],
   "metadata": {
    "collapsed": false,
    "pycharm": {
     "name": "#%%\n"
    }
   }
  },
  {
   "cell_type": "code",
   "execution_count": 7,
   "outputs": [],
   "source": [
    "train_x = reshape_and_truncate(train_x, (-1, window_size, n_features))\n",
    "train_y = reshape_and_truncate(train_y, (-1, window_size, len(main_activity_label_classes)))\n",
    "\n",
    "test_x = reshape_and_truncate(test_x, (-1, window_size, n_features))\n",
    "test_y = reshape_and_truncate(test_y, (-1, window_size, len(main_activity_label_classes)))\n",
    "\n",
    "val_x = reshape_and_truncate(val_x, (-1, window_size, n_features))\n",
    "val_y = reshape_and_truncate(val_y, (-1, window_size, len(main_activity_label_classes)))"
   ],
   "metadata": {
    "collapsed": false,
    "pycharm": {
     "name": "#%%\n"
    }
   }
  },
  {
   "cell_type": "code",
   "execution_count": 8,
   "outputs": [
    {
     "name": "stdout",
     "output_type": "stream",
     "text": [
      "Metal device set to: Apple M1 Pro\n"
     ]
    },
    {
     "name": "stderr",
     "output_type": "stream",
     "text": [
      "2022-06-25 15:27:22.300836: I tensorflow/core/common_runtime/pluggable_device/pluggable_device_factory.cc:305] Could not identify NUMA node of platform GPU ID 0, defaulting to 0. Your kernel may not have been built with NUMA support.\n",
      "2022-06-25 15:27:22.300931: I tensorflow/core/common_runtime/pluggable_device/pluggable_device_factory.cc:271] Created TensorFlow device (/job:localhost/replica:0/task:0/device:GPU:0 with 0 MB memory) -> physical PluggableDevice (device: 0, name: METAL, pci bus id: <undefined>)\n",
      "2022-06-25 15:27:22.324515: W tensorflow/core/platform/profile_utils/cpu_utils.cc:128] Failed to get CPU frequency: 0 Hz\n"
     ]
    },
    {
     "name": "stdout",
     "output_type": "stream",
     "text": [
      "Model: \"sequential\"\n",
      "_________________________________________________________________\n",
      " Layer (type)                Output Shape              Param #   \n",
      "=================================================================\n",
      " normalization (Normalizatio  (None, None, 51)         103       \n",
      " n)                                                              \n",
      "                                                                 \n",
      " esn (ESN)                   (None, None, 1024)        1101824   \n",
      "                                                                 \n",
      " dense (Dense)               (None, None, 7)           7175      \n",
      "                                                                 \n",
      "=================================================================\n",
      "Total params: 1,109,102\n",
      "Trainable params: 7,175\n",
      "Non-trainable params: 1,101,927\n",
      "_________________________________________________________________\n",
      "Epoch 1/100\n",
      "654/654 [==============================] - 11s 17ms/step - loss: 0.9675 - val_loss: 0.6715\n",
      "Epoch 2/100\n",
      "654/654 [==============================] - 11s 16ms/step - loss: 0.7843 - val_loss: 0.6370\n",
      "Epoch 3/100\n",
      "654/654 [==============================] - 12s 18ms/step - loss: 0.7493 - val_loss: 0.6162\n",
      "Epoch 4/100\n",
      "654/654 [==============================] - 12s 18ms/step - loss: 0.7264 - val_loss: 0.6132\n",
      "Epoch 5/100\n",
      "654/654 [==============================] - 11s 17ms/step - loss: 0.7078 - val_loss: 0.6030\n",
      "Epoch 6/100\n",
      "654/654 [==============================] - 12s 18ms/step - loss: 0.6958 - val_loss: 0.5925\n",
      "Epoch 7/100\n",
      "654/654 [==============================] - 12s 18ms/step - loss: 0.6849 - val_loss: 0.5886\n",
      "Epoch 8/100\n",
      "654/654 [==============================] - 12s 18ms/step - loss: 0.6768 - val_loss: 0.5958\n",
      "Epoch 9/100\n",
      "654/654 [==============================] - 12s 19ms/step - loss: 0.6711 - val_loss: 0.5754\n",
      "Epoch 10/100\n",
      "654/654 [==============================] - 12s 18ms/step - loss: 0.6665 - val_loss: 0.5889\n",
      "Epoch 11/100\n",
      "654/654 [==============================] - 13s 19ms/step - loss: 0.6628 - val_loss: 0.5740\n",
      "Epoch 12/100\n",
      "654/654 [==============================] - 12s 19ms/step - loss: 0.6594 - val_loss: 0.5713\n",
      "Epoch 13/100\n",
      "654/654 [==============================] - 11s 17ms/step - loss: 0.6578 - val_loss: 0.5731\n",
      "Epoch 14/100\n",
      "654/654 [==============================] - 11s 17ms/step - loss: 0.6550 - val_loss: 0.5744\n",
      "Epoch 15/100\n",
      "654/654 [==============================] - 11s 17ms/step - loss: 0.6528 - val_loss: 0.5798\n",
      "Epoch 16/100\n",
      "654/654 [==============================] - 11s 18ms/step - loss: 0.6516 - val_loss: 0.5689\n",
      "Epoch 17/100\n",
      "654/654 [==============================] - 12s 19ms/step - loss: 0.6497 - val_loss: 0.5692\n",
      "Epoch 18/100\n",
      "654/654 [==============================] - 12s 19ms/step - loss: 0.6484 - val_loss: 0.5644\n",
      "Epoch 19/100\n",
      "654/654 [==============================] - 12s 19ms/step - loss: 0.6467 - val_loss: 0.5694\n",
      "Epoch 20/100\n",
      "654/654 [==============================] - 12s 19ms/step - loss: 0.6460 - val_loss: 0.5655\n",
      "Epoch 21/100\n",
      "654/654 [==============================] - 12s 19ms/step - loss: 0.6446 - val_loss: 0.5663\n",
      "Epoch 22/100\n",
      "654/654 [==============================] - 12s 19ms/step - loss: 0.6442 - val_loss: 0.5712\n",
      "Epoch 23/100\n",
      "654/654 [==============================] - 12s 19ms/step - loss: 0.6429 - val_loss: 0.5691\n",
      "212/212 [==============================] - 3s 15ms/step\n"
     ]
    }
   ],
   "source": [
    "with tf.device('/cpu:0'):\n",
    "    early_stopping = tf.keras.callbacks.EarlyStopping(monitor='val_loss',\n",
    "                                                      patience=early_stopping_patience,\n",
    "                                                      mode='min',\n",
    "                                                      restore_best_weights=True)\n",
    "    model = tf.keras.Sequential()\n",
    "\n",
    "    layer = tf.keras.layers.Normalization(axis=-1)\n",
    "    layer.adapt(train_x)\n",
    "    model.add(layer)\n",
    "\n",
    "    model.add(tfa.layers.ESN(n_neurons,\n",
    "                             return_sequences=True,\n",
    "                             input_shape=(train_x.shape[1], train_x.shape[2])))\n",
    "    model.add(tf.keras.layers.Dense(n_y,\n",
    "                                    activation=tf.keras.activations.softmax))\n",
    "\n",
    "    model.summary()\n",
    "    model.compile(loss=tf.keras.losses.CategoricalCrossentropy(),\n",
    "                  optimizer=tf.keras.optimizers.Adam(learning_rate=0.0005))\n",
    "    history = model.fit(x=train_x,\n",
    "                        y=train_y,\n",
    "                        epochs=epochs,\n",
    "                        validation_data=(val_x, val_y),\n",
    "                        callbacks=[early_stopping],\n",
    "                        batch_size=batch_size)\n",
    "    predict = model.predict(test_x)"
   ],
   "metadata": {
    "collapsed": false,
    "pycharm": {
     "name": "#%%\n"
    }
   }
  },
  {
   "cell_type": "code",
   "execution_count": 9,
   "outputs": [],
   "source": [
    "gold_labels = get_labels(test_y)\n",
    "predicted_labels = get_labels(predict)"
   ],
   "metadata": {
    "collapsed": false,
    "pycharm": {
     "name": "#%%\n"
    }
   }
  },
  {
   "cell_type": "code",
   "execution_count": 10,
   "outputs": [
    {
     "name": "stdout",
     "output_type": "stream",
     "text": [
      "F1: 0.662730291929328\n",
      "Precision: 0.6605998361005304\n",
      "Recall: 0.6982082037612912\n"
     ]
    }
   ],
   "source": [
    "print(f'F1: {f1_score(gold_labels, predicted_labels, average=\"weighted\")}')\n",
    "print(f'Precision: {precision_score(gold_labels, predicted_labels, average=\"weighted\", zero_division=0)}')\n",
    "print(f'Recall: {recall_score(gold_labels, predicted_labels, average=\"weighted\", zero_division=0)}')"
   ],
   "metadata": {
    "collapsed": false,
    "pycharm": {
     "name": "#%%\n"
    }
   }
  },
  {
   "cell_type": "code",
   "execution_count": 11,
   "outputs": [],
   "source": [
    "export_dir: str = 'Plots/ESN'"
   ],
   "metadata": {
    "collapsed": false,
    "pycharm": {
     "name": "#%%\n"
    }
   }
  },
  {
   "cell_type": "code",
   "execution_count": 12,
   "outputs": [
    {
     "data": {
      "text/plain": "<Figure size 720x720 with 2 Axes>",
      "image/png": "[encoded data removed]"
     },
     "metadata": {
      "needs_background": "light"
     },
     "output_type": "display_data"
    }
   ],
   "source": [
    "plot_conf_matrix(gold_labels, predicted_labels, export_dir=export_dir, file_name='confusion_matrix_esn.png')"
   ],
   "metadata": {
    "collapsed": false,
    "pycharm": {
     "name": "#%%\n"
    }
   }
  },
  {
   "cell_type": "code",
   "execution_count": 13,
   "outputs": [
    {
     "data": {
      "text/plain": "<Figure size 432x288 with 1 Axes>",
      "image/png": "[encoded data removed]"
     },
     "metadata": {
      "needs_background": "light"
     },
     "output_type": "display_data"
    }
   ],
   "source": [
    "plot_val_loss_progress(history, export_dir=export_dir, file_name='convergence_val_loss_esn.png', model_name='ESN')"
   ],
   "metadata": {
    "collapsed": false,
    "pycharm": {
     "name": "#%%\n"
    }
   }
  },
  {
   "cell_type": "code",
   "execution_count": 13,
   "outputs": [],
   "source": [],
   "metadata": {
    "collapsed": false,
    "pycharm": {
     "name": "#%%\n"
    }
   }
  }
 ],
 "metadata": {
  "kernelspec": {
   "display_name": "Python 3",
   "language": "python",
   "name": "python3"
  },
  "language_info": {
   "codemirror_mode": {
    "name": "ipython",
    "version": 2
   },
   "file_extension": ".py",
   "mimetype": "text/x-python",
   "name": "python",
   "nbconvert_exporter": "python",
   "pygments_lexer": "ipython2",
   "version": "2.7.6"
  }
 },
 "nbformat": 4,
 "nbformat_minor": 0
}