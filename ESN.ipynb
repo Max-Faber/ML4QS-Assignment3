{
 "cells": [
  {
   "cell_type": "code",
   "execution_count": 1,
   "outputs": [],
   "source": [
    "import tensorflow_addons as tfa\n",
    "\n",
    "from definitions import *\n",
    "from trainTestValSplit import getTrainTestValSplit\n",
    "from preProcessing import preProcess\n",
    "from sklearn.metrics import f1_score, precision_score, recall_score"
   ],
   "metadata": {
    "collapsed": false,
    "pycharm": {
     "name": "#%%\n"
    }
   }
  },
  {
   "cell_type": "code",
   "execution_count": 2,
   "outputs": [
    {
     "name": "stdout",
     "output_type": "stream",
     "text": [
      "/Volumes/SEAGATE/code/ML4QS-Assignment3/dataset/ExtraSensory/Processed_outliers_with_labels/098A72A5-E3E5-4F54-A152-BBDA0DF7B694.csv\n"
     ]
    }
   ],
   "source": [
    "train_concat, test_concat, val_concat = getTrainTestValSplit(\n",
    "    _dataset_path=f'{ROOT_DIR}/dataset/ExtraSensory/Processed_outliers_with_labels'\n",
    ")"
   ],
   "metadata": {
    "collapsed": false,
    "pycharm": {
     "name": "#%%\n"
    }
   }
  },
  {
   "cell_type": "code",
   "execution_count": 4,
   "outputs": [],
   "source": [
    "train_x, train_y = preProcess(train_concat)\n",
    "test_x, test_y = preProcess(test_concat)\n",
    "val_x, val_y = preProcess(val_concat)"
   ],
   "metadata": {
    "collapsed": false,
    "pycharm": {
     "name": "#%%\n"
    }
   }
  },
  {
   "cell_type": "code",
   "execution_count": 6,
   "outputs": [],
   "source": [
    "n_neurons: int = 1024\n",
    "n_features: int = len(train_x.columns)"
   ],
   "metadata": {
    "collapsed": false,
    "pycharm": {
     "name": "#%%\n"
    }
   }
  },
  {
   "cell_type": "code",
   "execution_count": 7,
   "outputs": [],
   "source": [
    "train_x = train_x.to_numpy()\n",
    "train_y = train_y.to_numpy()\n",
    "test_x = test_x.to_numpy()\n",
    "test_y = test_y.to_numpy()\n",
    "val_x = val_x.to_numpy()\n",
    "val_y = val_y.to_numpy()"
   ],
   "metadata": {
    "collapsed": false,
    "pycharm": {
     "name": "#%%\n"
    }
   }
  },
  {
   "cell_type": "code",
   "execution_count": 8,
   "outputs": [],
   "source": [
    "train_y = encodeTarget(train_y)\n",
    "test_y = encodeTarget(test_y)\n",
    "val_y = encodeTarget(val_y)"
   ],
   "metadata": {
    "collapsed": false,
    "pycharm": {
     "name": "#%%\n"
    }
   }
  },
  {
   "cell_type": "code",
   "execution_count": 9,
   "outputs": [],
   "source": [
    "train_x = reshape_and_truncate(train_x, (-1, window_size, n_features))\n",
    "train_y = reshape_and_truncate(train_y, (-1, window_size, len(main_activity_label_classes)))\n",
    "\n",
    "test_x = reshape_and_truncate(test_x, (-1, window_size, n_features))\n",
    "test_y = reshape_and_truncate(test_y, (-1, window_size, len(main_activity_label_classes)))\n",
    "\n",
    "val_x = reshape_and_truncate(val_x, (-1, window_size, n_features))\n",
    "val_y = reshape_and_truncate(val_y, (-1, window_size, len(main_activity_label_classes)))"
   ],
   "metadata": {
    "collapsed": false,
    "pycharm": {
     "name": "#%%\n"
    }
   }
  },
  {
   "cell_type": "code",
   "execution_count": 10,
   "outputs": [
    {
     "name": "stdout",
     "output_type": "stream",
     "text": [
      "Metal device set to: Apple M1 Pro\n"
     ]
    },
    {
     "name": "stderr",
     "output_type": "stream",
     "text": [
      "2022-06-25 20:45:03.906540: I tensorflow/core/common_runtime/pluggable_device/pluggable_device_factory.cc:305] Could not identify NUMA node of platform GPU ID 0, defaulting to 0. Your kernel may not have been built with NUMA support.\n",
      "2022-06-25 20:45:03.906633: I tensorflow/core/common_runtime/pluggable_device/pluggable_device_factory.cc:271] Created TensorFlow device (/job:localhost/replica:0/task:0/device:GPU:0 with 0 MB memory) -> physical PluggableDevice (device: 0, name: METAL, pci bus id: <undefined>)\n",
      "2022-06-25 20:45:03.930196: W tensorflow/core/platform/profile_utils/cpu_utils.cc:128] Failed to get CPU frequency: 0 Hz\n"
     ]
    },
    {
     "name": "stdout",
     "output_type": "stream",
     "text": [
      "Model: \"sequential\"\n",
      "_________________________________________________________________\n",
      " Layer (type)                Output Shape              Param #   \n",
      "=================================================================\n",
      " normalization (Normalizatio  (None, None, 51)         103       \n",
      " n)                                                              \n",
      "                                                                 \n",
      " esn (ESN)                   (None, None, 1024)        1101824   \n",
      "                                                                 \n",
      " dense (Dense)               (None, None, 7)           7175      \n",
      "                                                                 \n",
      "=================================================================\n",
      "Total params: 1,109,102\n",
      "Trainable params: 7,175\n",
      "Non-trainable params: 1,101,927\n",
      "_________________________________________________________________\n",
      "Epoch 1/100\n",
      "650/650 [==============================] - 11s 16ms/step - loss: 1.0108 - val_loss: 0.9336\n",
      "Epoch 2/100\n",
      "650/650 [==============================] - 12s 18ms/step - loss: 0.8294 - val_loss: 0.8731\n",
      "Epoch 3/100\n",
      "650/650 [==============================] - 15s 22ms/step - loss: 0.7864 - val_loss: 0.8314\n",
      "Epoch 4/100\n",
      "650/650 [==============================] - 14s 22ms/step - loss: 0.7584 - val_loss: 0.8161\n",
      "Epoch 5/100\n",
      "650/650 [==============================] - 15s 23ms/step - loss: 0.7369 - val_loss: 0.7736\n",
      "Epoch 6/100\n",
      "650/650 [==============================] - 15s 23ms/step - loss: 0.7217 - val_loss: 0.7731\n",
      "Epoch 7/100\n",
      "650/650 [==============================] - 15s 23ms/step - loss: 0.7094 - val_loss: 0.7509\n",
      "Epoch 8/100\n",
      "650/650 [==============================] - 16s 24ms/step - loss: 0.7013 - val_loss: 0.7467\n",
      "Epoch 9/100\n",
      "650/650 [==============================] - 15s 22ms/step - loss: 0.6947 - val_loss: 0.7482\n",
      "Epoch 10/100\n",
      "650/650 [==============================] - 14s 22ms/step - loss: 0.6892 - val_loss: 0.7352\n",
      "Epoch 11/100\n",
      "650/650 [==============================] - 14s 21ms/step - loss: 0.6860 - val_loss: 0.7310\n",
      "Epoch 12/100\n",
      "650/650 [==============================] - 15s 23ms/step - loss: 0.6837 - val_loss: 0.7430\n",
      "Epoch 13/100\n",
      "650/650 [==============================] - 14s 22ms/step - loss: 0.6804 - val_loss: 0.7377\n",
      "Epoch 14/100\n",
      "650/650 [==============================] - 14s 22ms/step - loss: 0.6785 - val_loss: 0.7486\n",
      "Epoch 15/100\n",
      "650/650 [==============================] - 14s 22ms/step - loss: 0.6761 - val_loss: 0.7481\n",
      "Epoch 16/100\n",
      "650/650 [==============================] - 14s 21ms/step - loss: 0.6748 - val_loss: 0.7429\n",
      "207/207 [==============================] - 4s 19ms/step\n"
     ]
    }
   ],
   "source": [
    "with tf.device('/cpu:0'):\n",
    "    early_stopping = tf.keras.callbacks.EarlyStopping(monitor='val_loss',\n",
    "                                                      patience=early_stopping_patience,\n",
    "                                                      mode='min',\n",
    "                                                      restore_best_weights=True)\n",
    "    model = tf.keras.Sequential()\n",
    "\n",
    "    layer = tf.keras.layers.Normalization(axis=-1)\n",
    "    layer.adapt(train_x)\n",
    "    model.add(layer)\n",
    "\n",
    "    model.add(tfa.layers.ESN(n_neurons,\n",
    "                             return_sequences=True,\n",
    "                             input_shape=(train_x.shape[1], train_x.shape[2])))\n",
    "    model.add(tf.keras.layers.Dense(n_y,\n",
    "                                    activation=tf.keras.activations.softmax))\n",
    "\n",
    "    model.summary()\n",
    "    model.compile(loss=tf.keras.losses.CategoricalCrossentropy(),\n",
    "                  optimizer=tf.keras.optimizers.Adam(learning_rate=0.0005))\n",
    "    history = model.fit(x=train_x,\n",
    "                        y=train_y,\n",
    "                        epochs=epochs,\n",
    "                        validation_data=(val_x, val_y),\n",
    "                        callbacks=[early_stopping],\n",
    "                        batch_size=batch_size)\n",
    "    predict = model.predict(test_x)"
   ],
   "metadata": {
    "collapsed": false,
    "pycharm": {
     "name": "#%%\n"
    }
   }
  },
  {
   "cell_type": "code",
   "execution_count": 11,
   "outputs": [],
   "source": [
    "gold_labels = get_labels(test_y)\n",
    "predicted_labels = get_labels(predict)"
   ],
   "metadata": {
    "collapsed": false,
    "pycharm": {
     "name": "#%%\n"
    }
   }
  },
  {
   "cell_type": "code",
   "execution_count": 12,
   "outputs": [
    {
     "name": "stdout",
     "output_type": "stream",
     "text": [
      "F1: 0.7532876239599777\n",
      "Precision: 0.7449322264547246\n",
      "Recall: 0.7729885057471264\n"
     ]
    }
   ],
   "source": [
    "print(f'F1: {f1_score(gold_labels, predicted_labels, average=\"weighted\")}')\n",
    "print(f'Precision: {precision_score(gold_labels, predicted_labels, average=\"weighted\", zero_division=0)}')\n",
    "print(f'Recall: {recall_score(gold_labels, predicted_labels, average=\"weighted\", zero_division=0)}')\n",
    "# F1: 0.7540022425861407\n",
    "# Precision: 0.7466318028043031\n",
    "# Recall: 0.7667876588021778"
   ],
   "metadata": {
    "collapsed": false,
    "pycharm": {
     "name": "#%%\n"
    }
   }
  },
  {
   "cell_type": "code",
   "execution_count": 13,
   "outputs": [],
   "source": [
    "export_dir: str = 'Plots/ESN'"
   ],
   "metadata": {
    "collapsed": false,
    "pycharm": {
     "name": "#%%\n"
    }
   }
  },
  {
   "cell_type": "code",
   "execution_count": 14,
   "outputs": [
    {
     "name": "stdout",
     "output_type": "stream",
     "text": [
      "n_classes_conf_matrix: 6612\n"
     ]
    },
    {
     "data": {
      "text/plain": "<Figure size 720x720 with 2 Axes>",
      "image/png": "[encoded data removed]"
     },
     "metadata": {
      "needs_background": "light"
     },
     "output_type": "display_data"
    }
   ],
   "source": [
    "plot_conf_matrix(gold_labels, predicted_labels, export_dir=export_dir, file_name='confusion_matrix_esn.png', model_name='ESN')"
   ],
   "metadata": {
    "collapsed": false,
    "pycharm": {
     "name": "#%%\n"
    }
   }
  },
  {
   "cell_type": "code",
   "execution_count": 15,
   "outputs": [
    {
     "data": {
      "text/plain": "<Figure size 432x288 with 1 Axes>",
      "image/png": "[encoded data removed]"
     },
     "metadata": {
      "needs_background": "light"
     },
     "output_type": "display_data"
    }
   ],
   "source": [
    "plot_val_loss_progress(history, export_dir=export_dir, file_name='convergence_val_loss_esn.png', model_name='ESN')"
   ],
   "metadata": {
    "collapsed": false,
    "pycharm": {
     "name": "#%%\n"
    }
   }
  },
  {
   "cell_type": "code",
   "execution_count": 15,
   "outputs": [],
   "source": [],
   "metadata": {
    "collapsed": false,
    "pycharm": {
     "name": "#%%\n"
    }
   }
  }
 ],
 "metadata": {
  "kernelspec": {
   "display_name": "Python 3",
   "language": "python",
   "name": "python3"
  },
  "language_info": {
   "codemirror_mode": {
    "name": "ipython",
    "version": 2
   },
   "file_extension": ".py",
   "mimetype": "text/x-python",
   "name": "python",
   "nbconvert_exporter": "python",
   "pygments_lexer": "ipython2",
   "version": "2.7.6"
  }
 },
 "nbformat": 4,
 "nbformat_minor": 0
}