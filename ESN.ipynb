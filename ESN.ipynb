{
 "cells": [
  {
   "cell_type": "code",
   "execution_count": 1,
   "outputs": [],
   "source": [
    "import tensorflow_addons as tfa\n",
    "\n",
    "from definitions import *\n",
    "from trainTestValSplit import getTrainTestValSplit\n",
    "from preProcessing import preProcess\n",
    "from sklearn.metrics import f1_score"
   ],
   "metadata": {
    "collapsed": false,
    "pycharm": {
     "name": "#%%\n"
    }
   }
  },
  {
   "cell_type": "code",
   "execution_count": 2,
   "outputs": [],
   "source": [
    "train_concat, test_concat, val_concat = getTrainTestValSplit(\n",
    "    _dataset_path=f'{ROOT_DIR}/dataset/ExtraSensory/Processed'\n",
    ")"
   ],
   "metadata": {
    "collapsed": false,
    "pycharm": {
     "name": "#%%\n"
    }
   }
  },
  {
   "cell_type": "code",
   "execution_count": 3,
   "outputs": [],
   "source": [
    "train_x, train_y = preProcess(train_concat)\n",
    "test_x, test_y = preProcess(test_concat)\n",
    "val_x, val_y = preProcess(val_concat)"
   ],
   "metadata": {
    "collapsed": false,
    "pycharm": {
     "name": "#%%\n"
    }
   }
  },
  {
   "cell_type": "code",
   "execution_count": 4,
   "outputs": [],
   "source": [
    "n_neurons: int = 1024\n",
    "n_features: int = len(train_x.columns)"
   ],
   "metadata": {
    "collapsed": false,
    "pycharm": {
     "name": "#%%\n"
    }
   }
  },
  {
   "cell_type": "code",
   "execution_count": 5,
   "outputs": [],
   "source": [
    "train_x = train_x.to_numpy()\n",
    "train_y = train_y.to_numpy()\n",
    "test_x = test_x.to_numpy()\n",
    "test_y = test_y.to_numpy()\n",
    "val_x = val_x.to_numpy()\n",
    "val_y = val_y.to_numpy()"
   ],
   "metadata": {
    "collapsed": false,
    "pycharm": {
     "name": "#%%\n"
    }
   }
  },
  {
   "cell_type": "code",
   "execution_count": 6,
   "outputs": [],
   "source": [
    "train_y = encodeTarget(train_y)\n",
    "test_y = encodeTarget(test_y)\n",
    "val_y = encodeTarget(val_y)"
   ],
   "metadata": {
    "collapsed": false,
    "pycharm": {
     "name": "#%%\n"
    }
   }
  },
  {
   "cell_type": "code",
   "execution_count": 7,
   "outputs": [],
   "source": [
    "train_x = reshape_and_truncate(train_x, (-1, window_size, n_features))\n",
    "train_y = reshape_and_truncate(train_y, (-1, window_size, len(main_activity_label_classes)))\n",
    "\n",
    "test_x = reshape_and_truncate(test_x, (-1, window_size, n_features))\n",
    "test_y = reshape_and_truncate(test_y, (-1, window_size, len(main_activity_label_classes)))\n",
    "\n",
    "val_x = reshape_and_truncate(val_x, (-1, window_size, n_features))\n",
    "val_y = reshape_and_truncate(val_y, (-1, window_size, len(main_activity_label_classes)))"
   ],
   "metadata": {
    "collapsed": false,
    "pycharm": {
     "name": "#%%\n"
    }
   }
  },
  {
   "cell_type": "code",
   "execution_count": 8,
   "outputs": [
    {
     "name": "stdout",
     "output_type": "stream",
     "text": [
      "Metal device set to: Apple M1 Pro\n"
     ]
    },
    {
     "name": "stderr",
     "output_type": "stream",
     "text": [
      "2022-06-24 10:47:19.538031: I tensorflow/core/common_runtime/pluggable_device/pluggable_device_factory.cc:305] Could not identify NUMA node of platform GPU ID 0, defaulting to 0. Your kernel may not have been built with NUMA support.\n",
      "2022-06-24 10:47:19.538145: I tensorflow/core/common_runtime/pluggable_device/pluggable_device_factory.cc:271] Created TensorFlow device (/job:localhost/replica:0/task:0/device:GPU:0 with 0 MB memory) -> physical PluggableDevice (device: 0, name: METAL, pci bus id: <undefined>)\n",
      "2022-06-24 10:47:19.612204: W tensorflow/core/platform/profile_utils/cpu_utils.cc:128] Failed to get CPU frequency: 0 Hz\n",
      "2022-06-24 10:47:19.665288: I tensorflow/core/grappler/optimizers/custom_graph_optimizer_registry.cc:113] Plugin optimizer for device_type GPU is enabled.\n",
      "2022-06-24 10:47:19.681620: I tensorflow/core/grappler/optimizers/custom_graph_optimizer_registry.cc:113] Plugin optimizer for device_type GPU is enabled.\n"
     ]
    },
    {
     "name": "stdout",
     "output_type": "stream",
     "text": [
      "Model: \"sequential\"\n",
      "_________________________________________________________________\n",
      " Layer (type)                Output Shape              Param #   \n",
      "=================================================================\n",
      " normalization (Normalizatio  (None, None, 172)        345       \n",
      " n)                                                              \n",
      "                                                                 \n",
      " esn (ESN)                   (None, None, 1024)        1225728   \n",
      "                                                                 \n",
      " dense (Dense)               (None, None, 7)           7175      \n",
      "                                                                 \n",
      "=================================================================\n",
      "Total params: 1,233,248\n",
      "Trainable params: 7,175\n",
      "Non-trainable params: 1,226,073\n",
      "_________________________________________________________________\n",
      "Epoch 1/100\n",
      "  4/679 [..............................] - ETA: 14s - loss: 2.1773 "
     ]
    },
    {
     "name": "stderr",
     "output_type": "stream",
     "text": [
      "2022-06-24 10:47:40.874914: I tensorflow/core/grappler/optimizers/custom_graph_optimizer_registry.cc:113] Plugin optimizer for device_type GPU is enabled.\n"
     ]
    },
    {
     "name": "stdout",
     "output_type": "stream",
     "text": [
      "678/679 [============================>.] - ETA: 0s - loss: 0.9493"
     ]
    },
    {
     "name": "stderr",
     "output_type": "stream",
     "text": [
      "2022-06-24 10:47:52.708538: I tensorflow/core/grappler/optimizers/custom_graph_optimizer_registry.cc:113] Plugin optimizer for device_type GPU is enabled.\n"
     ]
    },
    {
     "name": "stdout",
     "output_type": "stream",
     "text": [
      "679/679 [==============================] - 14s 19ms/step - loss: 0.9489 - val_loss: 0.9306\n",
      "Epoch 2/100\n",
      "679/679 [==============================] - 13s 19ms/step - loss: 0.7015 - val_loss: 0.8666\n",
      "Epoch 3/100\n",
      "679/679 [==============================] - 13s 19ms/step - loss: 0.6488 - val_loss: 0.8527\n",
      "Epoch 4/100\n",
      "679/679 [==============================] - 13s 19ms/step - loss: 0.6180 - val_loss: 0.8319\n",
      "Epoch 5/100\n",
      "679/679 [==============================] - 13s 19ms/step - loss: 0.5973 - val_loss: 0.8121\n",
      "Epoch 6/100\n",
      "679/679 [==============================] - 13s 19ms/step - loss: 0.5828 - val_loss: 0.8135\n",
      "Epoch 7/100\n",
      "679/679 [==============================] - 13s 19ms/step - loss: 0.5713 - val_loss: 0.8096\n",
      "Epoch 8/100\n",
      "679/679 [==============================] - 13s 19ms/step - loss: 0.5637 - val_loss: 0.8130\n",
      "Epoch 9/100\n",
      "679/679 [==============================] - 13s 19ms/step - loss: 0.5570 - val_loss: 0.7998\n",
      "Epoch 10/100\n",
      "679/679 [==============================] - 13s 19ms/step - loss: 0.5521 - val_loss: 0.7956\n",
      "Epoch 11/100\n",
      "679/679 [==============================] - 13s 19ms/step - loss: 0.5484 - val_loss: 0.8135\n",
      "Epoch 12/100\n",
      "679/679 [==============================] - 13s 19ms/step - loss: 0.5435 - val_loss: 0.8169\n",
      "Epoch 13/100\n",
      "679/679 [==============================] - 13s 19ms/step - loss: 0.5411 - val_loss: 0.8158\n",
      "Epoch 14/100\n",
      "679/679 [==============================] - 13s 19ms/step - loss: 0.5389 - val_loss: 0.8178\n",
      "Epoch 15/100\n",
      "679/679 [==============================] - 13s 19ms/step - loss: 0.5366 - val_loss: 0.8233\n",
      "  9/197 [>.............................] - ETA: 2s"
     ]
    },
    {
     "name": "stderr",
     "output_type": "stream",
     "text": [
      "2022-06-24 10:50:54.978416: I tensorflow/core/grappler/optimizers/custom_graph_optimizer_registry.cc:113] Plugin optimizer for device_type GPU is enabled.\n"
     ]
    },
    {
     "name": "stdout",
     "output_type": "stream",
     "text": [
      "197/197 [==============================] - 3s 13ms/step\n"
     ]
    }
   ],
   "source": [
    "with tf.device('/gpu:0'):\n",
    "    early_stopping = tf.keras.callbacks.EarlyStopping(monitor='val_loss',\n",
    "                                                      patience=early_stopping_patience,\n",
    "                                                      mode='min',\n",
    "                                                      restore_best_weights=True)\n",
    "    model = tf.keras.Sequential()\n",
    "\n",
    "    layer = tf.keras.layers.Normalization(axis=-1)\n",
    "    layer.adapt(train_x)\n",
    "    model.add(layer)\n",
    "\n",
    "    model.add(tfa.layers.ESN(n_neurons,\n",
    "                             return_sequences=True,\n",
    "                             input_shape=(train_x.shape[1], train_x.shape[2])))\n",
    "    model.add(tf.keras.layers.Dense(n_y,\n",
    "                                    activation=tf.keras.activations.softmax))\n",
    "\n",
    "    model.summary()\n",
    "    model.compile(loss=tf.keras.losses.CategoricalCrossentropy(),\n",
    "                  optimizer=tf.keras.optimizers.Adam(learning_rate=0.0005))\n",
    "    history = model.fit(x=train_x,\n",
    "                        y=train_y,\n",
    "                        epochs=epochs,\n",
    "                        validation_data=(val_x, val_y),\n",
    "                        callbacks=[early_stopping],\n",
    "                        batch_size=batch_size)\n",
    "    predict = model.predict(test_x)"
   ],
   "metadata": {
    "collapsed": false,
    "pycharm": {
     "name": "#%%\n"
    }
   }
  },
  {
   "cell_type": "code",
   "execution_count": 9,
   "outputs": [],
   "source": [
    "gold_labels = get_labels(test_y)\n",
    "predicted_labels = get_labels(predict)"
   ],
   "metadata": {
    "collapsed": false,
    "pycharm": {
     "name": "#%%\n"
    }
   }
  },
  {
   "cell_type": "code",
   "execution_count": 10,
   "outputs": [
    {
     "data": {
      "text/plain": "0.7403335536678569"
     },
     "execution_count": 10,
     "metadata": {},
     "output_type": "execute_result"
    }
   ],
   "source": [
    "f1_score(gold_labels, predicted_labels, average='weighted')"
   ],
   "metadata": {
    "collapsed": false,
    "pycharm": {
     "name": "#%%\n"
    }
   }
  },
  {
   "cell_type": "code",
   "execution_count": 11,
   "outputs": [
    {
     "data": {
      "text/plain": "<tf.Tensor: shape=(7, 7), dtype=int32, numpy=\narray([[ 425,    2,   40,   14,   39,    0,    0],\n       [   5, 1771,  253,   11,   18,    0,    1],\n       [  15,  138, 2189,   82,  144,    0,    9],\n       [  10,   74,  374,   86,  100,    0,    0],\n       [   4,    8,  119,   26,  262,    1,    1],\n       [   3,    0,    1,    6,    2,    5,    0],\n       [   2,    0,   14,    3,   14,    0,   24]], dtype=int32)>"
     },
     "execution_count": 11,
     "metadata": {},
     "output_type": "execute_result"
    }
   ],
   "source": [
    "tf.math.confusion_matrix(gold_labels, predicted_labels)"
   ],
   "metadata": {
    "collapsed": false,
    "pycharm": {
     "name": "#%%\n"
    }
   }
  },
  {
   "cell_type": "code",
   "execution_count": null,
   "outputs": [],
   "source": [
    "export_dir: str = 'Plots/ESN'"
   ],
   "metadata": {
    "collapsed": false,
    "pycharm": {
     "name": "#%%\n"
    }
   }
  },
  {
   "cell_type": "code",
   "execution_count": 12,
   "outputs": [
    {
     "data": {
      "text/plain": "<Figure size 720x720 with 2 Axes>",
      "image/png": "[encoded data removed]"
     },
     "metadata": {
      "needs_background": "light"
     },
     "output_type": "display_data"
    }
   ],
   "source": [
    "plot_conf_matrix(gold_labels, predicted_labels, export_dir=export_dir)"
   ],
   "metadata": {
    "collapsed": false,
    "pycharm": {
     "name": "#%%\n"
    }
   }
  },
  {
   "cell_type": "code",
   "execution_count": 13,
   "outputs": [
    {
     "data": {
      "text/plain": "<Figure size 432x288 with 1 Axes>",
      "image/png": "[encoded data removed]"
     },
     "metadata": {
      "needs_background": "light"
     },
     "output_type": "display_data"
    }
   ],
   "source": [
    "plot_val_loss_progress(history, export_dir=export_dir)"
   ],
   "metadata": {
    "collapsed": false,
    "pycharm": {
     "name": "#%%\n"
    }
   }
  },
  {
   "cell_type": "code",
   "execution_count": 13,
   "outputs": [],
   "source": [],
   "metadata": {
    "collapsed": false,
    "pycharm": {
     "name": "#%%\n"
    }
   }
  }
 ],
 "metadata": {
  "kernelspec": {
   "display_name": "Python 3",
   "language": "python",
   "name": "python3"
  },
  "language_info": {
   "codemirror_mode": {
    "name": "ipython",
    "version": 2
   },
   "file_extension": ".py",
   "mimetype": "text/x-python",
   "name": "python",
   "nbconvert_exporter": "python",
   "pygments_lexer": "ipython2",
   "version": "2.7.6"
  }
 },
 "nbformat": 4,
 "nbformat_minor": 0
}